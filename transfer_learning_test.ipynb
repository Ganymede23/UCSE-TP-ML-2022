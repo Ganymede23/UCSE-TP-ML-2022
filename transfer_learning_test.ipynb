{
 "cells": [
  {
   "cell_type": "code",
   "execution_count": null,
   "metadata": {},
   "outputs": [],
   "source": [
    "# de python, para especificar rutas de archivos y directorios\n",
    "from pathlib import Path\n",
    "import math\n",
    "import datetime\n",
    "\n",
    "# lib para trabajar con arrays\n",
    "import numpy as np\n",
    "import pandas as pd\n",
    "import sklearn\n",
    "\n",
    "# lib que usamos para mostrar las imágenes\n",
    "import matplotlib.pyplot as plt\n",
    "import seaborn as sns\n",
    "\n",
    "# libs que usamos para construir y entrenar redes neuronales, y que además tiene utilidades para leer sets de \n",
    "# imágenes\n",
    "import tensorflow as tf\n",
    "from tensorflow.keras.models import Sequential\n",
    "from tensorflow.keras.layers import Dense, Input, Dropout, Convolution2D, MaxPooling2D, Flatten, Rescaling, Conv2D, MaxPool2D\n",
    "from tensorflow.keras.preprocessing.image import load_img, img_to_array, ImageDataGenerator\n",
    "from keras.utils import np_utils\n",
    "from keras.models import Sequential\n",
    "\n",
    "\n",
    "# libs que usamos para tareas generales de machine learning. En este caso, métricas\n",
    "from sklearn.metrics import accuracy_score, confusion_matrix\n",
    "\n",
    "# configuración para que las imágenes se vean dentro del notebook\n",
    "%matplotlib inline"
   ]
  },
  {
   "cell_type": "markdown",
   "metadata": {},
   "source": [
    "### AMBIENTE DE TEST Y TRAIN"
   ]
  },
  {
   "cell_type": "code",
   "execution_count": null,
   "metadata": {},
   "outputs": [],
   "source": [
    "from keras.datasets import fashion_mnist\n",
    "\n",
    "train, test = fashion_mnist.load_data()\n",
    "(X_train, Y_train) = train \n",
    "(X_test, Y_test) = test\n"
   ]
  },
  {
   "cell_type": "markdown",
   "metadata": {},
   "source": [
    "### Prueba usando iamge net red resnet50"
   ]
  },
  {
   "cell_type": "code",
   "execution_count": null,
   "metadata": {},
   "outputs": [],
   "source": [
    "X_train = np.array(X_train).reshape(-1, 28, 28, 1)\n",
    "X_test = np.array(X_test).reshape(-1, 28, 28, 1)\n",
    "\n",
    "X_train.shape\n"
   ]
  },
  {
   "cell_type": "code",
   "execution_count": null,
   "metadata": {},
   "outputs": [],
   "source": [
    "from tensorflow.keras.preprocessing.image import load_img, img_to_array, array_to_img\n",
    "\n",
    "def change_size(image):\n",
    "    img = array_to_img(image, scale=False) #returns PIL Image\n",
    "    img = img.resize((75, 75)) #resize image\n",
    "    img = img.convert(mode='RGB') #makes 3 channels\n",
    "    arr = img_to_array(img) #convert back to array\n",
    "    return arr.astype(np.float64)"
   ]
  },
  {
   "cell_type": "code",
   "execution_count": null,
   "metadata": {},
   "outputs": [],
   "source": [
    "train_arr_75 = [change_size(img) for img in X_train]\n",
    "del X_train\n",
    "train_arr_75 = np.array(train_arr_75)\n",
    "train_arr_75.shape"
   ]
  },
  {
   "cell_type": "code",
   "execution_count": null,
   "metadata": {},
   "outputs": [],
   "source": [
    "test_arr_75 = [change_size(img) for img in X_test]\n",
    "del X_test\n",
    "test_arr_75 = np.array(test_arr_75)\n",
    "test_arr_75.shape"
   ]
  },
  {
   "cell_type": "code",
   "execution_count": null,
   "metadata": {},
   "outputs": [],
   "source": [
    "\n",
    "image_gen = ImageDataGenerator(rescale=1./255, #easier for network to interpret numbers in range [0,1]\n",
    "                              zoom_range=0.1,\n",
    "                              width_shift_range=0.2,\n",
    "                              height_shift_range=0.2,\n",
    "                              validation_split=0.2) # 80/20 train/val split\n",
    "\n",
    "train_generator = image_gen.flow(train_arr_75, \n",
    "                                Y_train,\n",
    "                                batch_size=32,\n",
    "                                shuffle=True,\n",
    "                                subset='training',\n",
    "                                seed=42)\n",
    "valid_generator = image_gen.flow(test_arr_75,\n",
    "                                Y_test,\n",
    "                                batch_size=16,\n",
    "                                shuffle=True,\n",
    "                                subset='validation')\n",
    "del train_arr_75 #saves RAM\n"
   ]
  },
  {
   "cell_type": "code",
   "execution_count": null,
   "metadata": {},
   "outputs": [],
   "source": [
    "model = Sequential()\n",
    "\n",
    "model.add(tf.keras.applications.resnet50.ResNet50(input_shape = (75, 75, 3), \n",
    "                                include_top = False, \n",
    "                                weights = 'imagenet'))\n",
    "\n",
    "model.add(Flatten())\n",
    "model.add(Dense(128, activation='relu'))\n",
    "model.add(Dense(10, activation='softmax'))\n",
    "\n",
    "model.compile(optimizer = tf.keras.optimizers.Adam(lr=0.0001), loss='categorical_crossentropy', metrics=['accuracy'])"
   ]
  },
  {
   "cell_type": "code",
   "execution_count": null,
   "metadata": {},
   "outputs": [],
   "source": [
    "for layer in model.layers[0].layers:\n",
    "    if layer.name == 'conv5_block1_0_conv':\n",
    "        break\n",
    "    layer.trainable=False"
   ]
  },
  {
   "cell_type": "code",
   "execution_count": null,
   "metadata": {},
   "outputs": [],
   "source": [
    "history = model.fit(train_arr_75,\n",
    "Y_train,\n",
    "epochs = 5,\n",
    "validation_data=(test_arr_75, Y_test),\n",
    "verbose = 1)\n",
    "\n",
    "'''history = model.fit(train_generator, validation_data=valid_generator, epochs=5, \n",
    "        steps_per_epoch=train_generator.n//train_generator.batch_size,\n",
    "        validation_steps=valid_generator.n//valid_generator.batch_size)'''\n"
   ]
  },
  {
   "cell_type": "markdown",
   "metadata": {},
   "source": [
    "### Prueba TL creando nosotros una red"
   ]
  },
  {
   "cell_type": "code",
   "execution_count": null,
   "metadata": {},
   "outputs": [],
   "source": [
    "pt_x_train = []\n",
    "pt_y_train = []\n",
    "pt_x_test = []\n",
    "pt_y_test = []\n",
    "\n",
    "tl_x_train = []\n",
    "tl_y_train = []\n",
    "tl_x_test = []\n",
    "tl_y_test = []\n",
    "\n",
    "for i in range(len(X_train)):\n",
    "    if Y_train[i] < 5:\n",
    "        pt_x_train.append(X_train[i] / 255) # Normalize\n",
    "        pt_y_train.append(Y_train[i])\n",
    "    else:\n",
    "        tl_x_train.append(X_train[i] / 255)\n",
    "        tl_y_train.append(Y_train[i])\n",
    "        \n",
    "for i in range(len(X_test)):\n",
    "    if Y_test[i] < 5:\n",
    "        pt_x_test.append(X_test[i] / 255)\n",
    "        pt_y_test.append(Y_test[i])\n",
    "    else:\n",
    "        tl_x_test.append(X_test[i] / 255)\n",
    "        tl_y_test.append(Y_test[i])"
   ]
  },
  {
   "cell_type": "code",
   "execution_count": null,
   "metadata": {},
   "outputs": [],
   "source": [
    "\n",
    "\n",
    "pt_x_train = np.asarray(pt_x_train).reshape(-1, 28, 28, 1)\n",
    "pt_x_test = np.asarray(pt_x_test).reshape(-1, 28, 28, 1)\n",
    "pt_y_train = np_utils.to_categorical(np.asarray(pt_y_train))\n",
    "pt_y_test = np_utils.to_categorical(np.asarray(pt_y_test))\n",
    "\n",
    "tl_x_train = np.asarray(tl_x_train).reshape(-1, 28, 28, 1)\n",
    "tl_x_test = np.asarray(tl_x_test).reshape(-1, 28, 28, 1)\n",
    "tl_y_train = np_utils.to_categorical(np.asarray(tl_y_train))\n",
    "tl_y_test = np_utils.to_categorical(np.asarray(tl_y_test))\n",
    "\n",
    "print(\"Pre Training [Train and Test data]\")\n",
    "print(pt_x_train.shape, pt_y_train.shape)\n",
    "print(pt_x_test.shape, pt_y_test.shape)\n",
    "\n",
    "print(\"\\nTransfer Learning [Train and Test data]\")\n",
    "print(tl_x_train.shape, tl_y_train.shape)\n",
    "print(tl_x_test.shape, tl_y_test.shape)\n",
    "\n",
    "\n"
   ]
  },
  {
   "cell_type": "code",
   "execution_count": null,
   "metadata": {},
   "outputs": [],
   "source": [
    "model = Sequential()\n",
    "\n",
    "model.add(Conv2D(32, 5, input_shape = (28, 28, 1), activation = 'relu'))\n",
    "model.add(Conv2D(16, 5, activation = 'relu'))\n",
    "model.add(MaxPool2D(pool_size = (2, 2)))\n",
    "model.add(Conv2D(8, 3, activation = 'relu'))\n",
    "\n",
    "model.add(Flatten())\n",
    "model.add(Dropout(0.4))\n",
    "\n",
    "model.add(Dense(128, activation = 'relu'))\n",
    "model.add(Dense(5, activation = 'softmax'))\n",
    "\n",
    "model.compile(loss = 'categorical_crossentropy', optimizer = 'adam', metrics = ['accuracy'])\n",
    "\n",
    "model.summary()"
   ]
  },
  {
   "cell_type": "code",
   "execution_count": null,
   "metadata": {},
   "outputs": [],
   "source": [
    "\n",
    "\n",
    "start = datetime.datetime.now()\n",
    "\n",
    "model.fit(pt_x_train, pt_y_train,\n",
    "         validation_data = (pt_x_test, pt_y_test),\n",
    "         epochs = 10,\n",
    "         shuffle = True,\n",
    "         batch_size = 100,\n",
    "         verbose = 1)\n",
    "\n",
    "end = datetime.datetime.now()\n",
    "print('\\n Time taken for pre-train model: ', end - start)\n",
    "\n"
   ]
  },
  {
   "cell_type": "code",
   "execution_count": null,
   "metadata": {},
   "outputs": [],
   "source": [
    "tl_model = Sequential(model.layers[:6])\n",
    "\n",
    "tl_model.add(Dense(128, activation = 'relu'))\n",
    "tl_model.add(Dense(10, activation = 'softmax'))\n",
    "\n",
    "tl_model.compile(loss = 'categorical_crossentropy', optimizer = 'adam', metrics = ['accuracy'])\n",
    "\n",
    "tl_model.summary()"
   ]
  },
  {
   "cell_type": "code",
   "execution_count": null,
   "metadata": {},
   "outputs": [],
   "source": [
    "start = datetime.datetime.now()\n",
    "\n",
    "history = tl_model.fit(tl_x_train, tl_y_train,\n",
    "            validation_data = (tl_x_test, tl_y_test),\n",
    "            epochs = 10,\n",
    "            shuffle = True,\n",
    "            batch_size = 100,\n",
    "            verbose = 2)\n",
    "\n",
    "end = datetime.datetime.now()\n",
    "print('\\n Time taken for transfer learning model: ', end - start)"
   ]
  }
 ],
 "metadata": {
  "interpreter": {
   "hash": "b6de9176f41d17a630063e39ec53a28277e92eb8562e5d328a4b9ee1e56a1825"
  },
  "kernelspec": {
   "display_name": "Python 3.10.0 ('venv': venv)",
   "language": "python",
   "name": "python3"
  },
  "language_info": {
   "codemirror_mode": {
    "name": "ipython",
    "version": 3
   },
   "file_extension": ".py",
   "mimetype": "text/x-python",
   "name": "python",
   "nbconvert_exporter": "python",
   "pygments_lexer": "ipython3",
   "version": "3.10.0"
  },
  "orig_nbformat": 4
 },
 "nbformat": 4,
 "nbformat_minor": 2
}
