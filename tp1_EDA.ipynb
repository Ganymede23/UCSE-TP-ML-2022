{
 "cells": [
  {
   "cell_type": "code",
   "execution_count": null,
   "id": "4c982e69",
   "metadata": {
    "scrolled": true
   },
   "outputs": [],
   "source": [
    "%matplotlib inline\n",
    "\n",
    "import warnings\n",
    "import numpy as np\n",
    "import pandas as pd\n",
    "from matplotlib import pyplot as plt\n",
    "import seaborn as sns\n",
    "\n",
    "pd.options.display.max_columns = 0\n",
    "\n",
    "plt.rcParams.update({\n",
    "    \"font.family\": [\"serif\"],\n",
    "    \"font.sans-serif\": [\"Roboto\"],\n",
    "    \"font.size\": 9,\n",
    "    \"axes.labelsize\": 11,\n",
    "    \"axes.titlesize\": 13,\n",
    "    \"xtick.labelsize\": 11,\n",
    "    \"ytick.labelsize\": 11,\n",
    "    \"legend.fontsize\": 11,\n",
    "    'figure.figsize': (11.0, 5.0),\n",
    "    'axes.grid': False,\n",
    "    'axes.spines.left': True,\n",
    "    'axes.spines.right': True,\n",
    "    'axes.spines.top': True,\n",
    "    'axes.spines.bottom': True,\n",
    "})\n",
    "\n",
    "#bmh\n",
    "#classic\n",
    "#fast\n",
    "#fivethirtyeight\n",
    "#seaborn\n",
    "\n",
    "#print(plt.style.available)\n",
    "#plt.style.use('seaborn')\n",
    "\n",
    "np.set_printoptions(suppress=True)\n",
    "\n",
    "warnings.filterwarnings('ignore')"
   ]
  },
  {
   "cell_type": "code",
   "execution_count": null,
   "id": "c291cb03",
   "metadata": {
    "scrolled": true
   },
   "outputs": [],
   "source": [
    "# dataset = pd.read_csv('full.csv')\n",
    "train = pd.read_csv('data/train.csv')\n",
    "test = pd.read_csv('data/test.csv')\n",
    "full = pd.concat([train, test], sort=False)\n",
    "\n",
    "new_column_names = {\n",
    "    'Gender': 'gender',\n",
    "    'Customer Type': 'customer_type',\n",
    "    'Age': 'age',\n",
    "    'Type of Travel': 'type_of_travel',\n",
    "    'Class': 'ticket_class',\n",
    "    'Flight Distance': 'flight_distance',\n",
    "    'Inflight wifi service': 'wifi_service',\n",
    "    'Departure/Arrival time convenient': 'departure_arrival_time_convenient',\n",
    "    'Ease of Online booking': 'online_booking',\n",
    "    'Gate location': 'gate_location',\n",
    "    'Food and drink': 'food_and_drink',\n",
    "    'Online boarding': 'online_boarding',\n",
    "    'Seat comfort': 'seat_comfort',\n",
    "    'Inflight entertainment': 'inflight_entertainment',\n",
    "    'On-board service': 'onboard_service',\n",
    "    'Leg room service': 'leg_room',\n",
    "    'Baggage handling': 'baggage_handling',\n",
    "    'Checkin service': 'checkin',\n",
    "    'Inflight service': 'inflight_service',\n",
    "    'Cleanliness': 'cleanliness',\n",
    "    'Departure Delay in Minutes': 'departure_delay',\n",
    "    'Arrival Delay in Minutes': 'arrival_delay',\n",
    "}\n",
    "\n",
    "full.rename(columns=new_column_names, inplace=True)\n",
    "full.set_index('id', inplace=True)\n",
    "# full"
   ]
  },
  {
   "cell_type": "code",
   "execution_count": null,
   "id": "67bcde47",
   "metadata": {},
   "outputs": [],
   "source": [
    "# Cambios de valores\n",
    "full['customer_type'] = full['customer_type'].replace(['disloyal Customer'],'Disloyal Customer')\n",
    "full['ticket_class'] = full['ticket_class'].replace(['Eco Plus','Eco'],['Economy Plus','Economy'])\n",
    "full"
   ]
  },
  {
   "cell_type": "markdown",
   "id": "5ade9d28",
   "metadata": {},
   "source": [
    "## PUNTO 2.1"
   ]
  },
  {
   "cell_type": "code",
   "execution_count": null,
   "id": "59090c65",
   "metadata": {
    "scrolled": false
   },
   "outputs": [],
   "source": [
    "full.satisfaction.value_counts().plot.bar(rot=0)\n",
    "print(full.satisfaction.unique())\n",
    "\n",
    "plt.title(\"Nivel de satisfacción\")\n",
    "plt.ylabel(\"Cantidad\")\n",
    "plt.show()"
   ]
  },
  {
   "cell_type": "markdown",
   "id": "4a43697c",
   "metadata": {},
   "source": [
    "## PUNTO 2.2"
   ]
  },
  {
   "cell_type": "markdown",
   "id": "aa58f691",
   "metadata": {},
   "source": [
    "#### Columnas a usar:\n",
    "    - customer_type\n",
    "    - ticket_class\n",
    "    - flight_distance -> GENDER\n",
    "    - cleanliness\n",
    "    - arrival_delay -> INFLIHT_SERVICE"
   ]
  },
  {
   "cell_type": "markdown",
   "id": "7ca37334",
   "metadata": {},
   "source": [
    "### customer_type"
   ]
  },
  {
   "cell_type": "code",
   "execution_count": null,
   "id": "35ea9d1c",
   "metadata": {
    "scrolled": false
   },
   "outputs": [],
   "source": [
    "full.customer_type.value_counts().plot.bar(rot=0)\n",
    "plt.title(\"Tipos de clientes\")\n",
    "plt.ylabel(\"Cantidad\")\n",
    "plt.show()"
   ]
  },
  {
   "cell_type": "code",
   "execution_count": null,
   "id": "39c2280b",
   "metadata": {},
   "outputs": [],
   "source": [
    "# OlD VERSION:\n",
    "# resultados_customer = customer_group[\"satisfaction\"].value_counts()\n",
    "# resultados_customer.plot.bar()\n",
    "\n",
    "df_loyal_customers = full[(full.customer_type == \"Loyal Customer\")]\n",
    "df_disloyal_customers = full[(full.customer_type == \"Disloyal Customer\")]\n",
    "\n",
    "unsatisfied_loyal_customers = df_loyal_customers['satisfaction'].value_counts()[\"neutral or dissatisfied\"]\n",
    "unsatisfied_disloyal_customers = df_disloyal_customers['satisfaction'].value_counts()[\"neutral or dissatisfied\"]\n",
    "satisfied_loyal_customers = df_loyal_customers['satisfaction'].value_counts()[\"satisfied\"]\n",
    "satisfied_disloyal_customers = df_disloyal_customers['satisfaction'].value_counts()[\"satisfied\"]\n",
    "\n",
    "satisfied_ppl = [satisfied_loyal_customers, satisfied_disloyal_customers]\n",
    "unsatisfied_ppl = [unsatisfied_loyal_customers, unsatisfied_disloyal_customers]\n",
    "index = ['Loyal Customers', 'Disloyal Customers']\n",
    "df = pd.DataFrame({'Satisfied': satisfied_ppl,\n",
    "                    'Unsatisfied': unsatisfied_ppl}, index=index)\n",
    "ax = df.plot.bar(rot=0, color={\"Satisfied\": \"green\", \"Unsatisfied\": \"red\"})\n",
    "\n",
    "plt.title(\"Distinción entre clientes conformes y disconformes por tipo de cliente\")\n",
    "plt.xlabel(\"Tipo de cliente\")\n",
    "plt.ylabel(\"Cantidad\")\n",
    "plt.show()"
   ]
  },
  {
   "cell_type": "markdown",
   "id": "885f0ec0",
   "metadata": {},
   "source": [
    "### cleanliness"
   ]
  },
  {
   "cell_type": "code",
   "execution_count": null,
   "id": "0988e158",
   "metadata": {},
   "outputs": [],
   "source": [
    "full.cleanliness.value_counts().reindex([1, 2, 3, 4, 5]).plot.bar(rot=0)\n",
    "plt.title(\"Niveles de limpieza\")\n",
    "plt.ylabel(\"Cantidad\")\n",
    "plt.show()"
   ]
  },
  {
   "cell_type": "code",
   "execution_count": null,
   "id": "b283d58e",
   "metadata": {
    "scrolled": false
   },
   "outputs": [],
   "source": [
    "# OlD VERSION:\n",
    "# cleanliness_group = full.groupby([\"cleanliness\"])\n",
    "# resultados = cleanliness_group[\"satisfaction\"].value_counts()\n",
    "# resultados.plot.bar()\n",
    "\n",
    "df_cleanliness_1 = full[(full.cleanliness == 1)]\n",
    "df_cleanliness_2 = full[(full.cleanliness == 2)]\n",
    "df_cleanliness_3 = full[(full.cleanliness == 3)]\n",
    "df_cleanliness_4 = full[(full.cleanliness == 4)]\n",
    "df_cleanliness_5 = full[(full.cleanliness == 5)]\n",
    "\n",
    "unsatisfied_cleanliness_1 = df_cleanliness_1['satisfaction'].value_counts()[\"neutral or dissatisfied\"]\n",
    "satisfied_cleanliness_1 = df_cleanliness_1['satisfaction'].value_counts()[\"satisfied\"]\n",
    "\n",
    "unsatisfied_cleanliness_2 = df_cleanliness_2['satisfaction'].value_counts()[\"neutral or dissatisfied\"]\n",
    "satisfied_cleanliness_2 = df_cleanliness_2['satisfaction'].value_counts()[\"satisfied\"]\n",
    "\n",
    "unsatisfied_cleanliness_3 = df_cleanliness_3['satisfaction'].value_counts()[\"neutral or dissatisfied\"]\n",
    "satisfied_cleanliness_3 = df_cleanliness_3['satisfaction'].value_counts()[\"satisfied\"]\n",
    "\n",
    "unsatisfied_cleanliness_4 = df_cleanliness_4['satisfaction'].value_counts()[\"neutral or dissatisfied\"]\n",
    "satisfied_cleanliness_4 = df_cleanliness_4['satisfaction'].value_counts()[\"satisfied\"]\n",
    "\n",
    "unsatisfied_cleanliness_5 = df_cleanliness_5['satisfaction'].value_counts()[\"neutral or dissatisfied\"]\n",
    "satisfied_cleanliness_5 = df_cleanliness_5['satisfaction'].value_counts()[\"satisfied\"]\n",
    "\n",
    "\n",
    "satisfied_ppl = [satisfied_cleanliness_1, satisfied_cleanliness_2, satisfied_cleanliness_3, satisfied_cleanliness_4, satisfied_cleanliness_5]\n",
    "unsatisfied_ppl = [unsatisfied_cleanliness_1, unsatisfied_cleanliness_2, unsatisfied_cleanliness_3, unsatisfied_cleanliness_4,unsatisfied_cleanliness_5 ]\n",
    "index = ['Cleanliness 1', 'Cleanliness 2', 'Cleanliness 3', 'Cleanliness 4', 'Cleanliness 5']\n",
    "df = pd.DataFrame({'Satisfied': satisfied_ppl,\n",
    "                    'Unsatisfied': unsatisfied_ppl}, index=index)\n",
    "ax = df.plot.bar(rot=0, color={\"Satisfied\": \"green\", \"Unsatisfied\": \"red\"})\n",
    "\n",
    "plt.title(\"Distinción entre clientes conformes y disconformes por nivel de limpieza\")\n",
    "plt.xlabel(\"Nivel de limpieza\")\n",
    "plt.ylabel(\"Cantidad\")\n",
    "plt.show()"
   ]
  },
  {
   "cell_type": "markdown",
   "id": "cd8a0da5",
   "metadata": {},
   "source": [
    "### ticket_class"
   ]
  },
  {
   "cell_type": "code",
   "execution_count": null,
   "id": "684f2dba",
   "metadata": {
    "scrolled": false
   },
   "outputs": [],
   "source": [
    "full.ticket_class.value_counts().reindex([\"Business\", \"Economy Plus\", \"Economy\"]).plot.bar(rot=0)\n",
    "plt.title(\"Clases\")\n",
    "plt.ylabel(\"Cantidad\")\n",
    "plt.show()"
   ]
  },
  {
   "cell_type": "code",
   "execution_count": null,
   "id": "28fcd81e",
   "metadata": {
    "scrolled": false
   },
   "outputs": [],
   "source": [
    "# OlD VERSION:\n",
    "# resultados_ticket = ticket_group[\"satisfaction\"].value_counts()\n",
    "# resultados_ticket.plot.bar()\n",
    "\n",
    "df_business = full[(full.ticket_class == \"Business\")]\n",
    "df_eco_plus = full[(full.ticket_class == \"Economy Plus\")]\n",
    "df_eco = full[(full.ticket_class == \"Economy\")]\n",
    "\n",
    "unsatisfied_business = df_business['satisfaction'].value_counts()[\"neutral or dissatisfied\"]\n",
    "unsatisfied_eco_plus = df_eco_plus['satisfaction'].value_counts()[\"neutral or dissatisfied\"]\n",
    "unsatisfied_eco = df_eco['satisfaction'].value_counts()[\"neutral or dissatisfied\"]\n",
    "satisfied_business = df_business['satisfaction'].value_counts()[\"satisfied\"]\n",
    "satisfied_eco_plus = df_eco_plus['satisfaction'].value_counts()[\"satisfied\"]\n",
    "satisfied_eco = df_eco['satisfaction'].value_counts()[\"satisfied\"]\n",
    "\n",
    "satisfied_ppl = [satisfied_business, satisfied_eco_plus, satisfied_eco]\n",
    "unsatisfied_ppl = [unsatisfied_business, unsatisfied_eco_plus, unsatisfied_eco]\n",
    "index = ['Business', 'Economy Plus', 'Economy']\n",
    "df = pd.DataFrame({'Satisfied': satisfied_ppl,\n",
    "                    'Unsatisfied': unsatisfied_ppl}, index=index)\n",
    "ax = df.plot.bar(rot=0, color={\"Satisfied\": \"green\", \"Unsatisfied\": \"red\"})\n",
    "\n",
    "plt.title(\"Distinción entre clientes conformes y disconformes por clase\")\n",
    "plt.xlabel(\"Clase\")\n",
    "plt.ylabel(\"Cantidad\")\n",
    "plt.show()"
   ]
  },
  {
   "cell_type": "markdown",
   "id": "9a4572f5",
   "metadata": {},
   "source": [
    "### gender"
   ]
  },
  {
   "cell_type": "code",
   "execution_count": null,
   "id": "cafea25f",
   "metadata": {
    "scrolled": false
   },
   "outputs": [],
   "source": [
    "full.gender.value_counts().plot.bar(rot=0)\n",
    "plt.title(\"Géneros\")\n",
    "plt.ylabel(\"Cantidad\")\n",
    "plt.show()"
   ]
  },
  {
   "cell_type": "code",
   "execution_count": null,
   "id": "596454fe",
   "metadata": {
    "scrolled": false
   },
   "outputs": [],
   "source": [
    "# OLD GENDER\n",
    "#gender_group = full.groupby([\"gender\"])\n",
    "#full.gender.value_counts().plot.bar()\n",
    "#resultados_gender = gender_group[\"satisfaction\"].value_counts()\n",
    "#resultados_gender.plot.bar()\n",
    "\n",
    "df_gender_female = full[(full.gender == \"Female\")]\n",
    "df_gender_male = full[(full.gender == \"Male\")]\n",
    "\n",
    "unsatisfied_gender_female = df_gender_female['satisfaction'].value_counts()[\"neutral or dissatisfied\"]\n",
    "satisfied_gender_female = df_gender_female['satisfaction'].value_counts()[\"satisfied\"]\n",
    "\n",
    "unsatisfied_gender_male = df_gender_male['satisfaction'].value_counts()[\"neutral or dissatisfied\"]\n",
    "satisfied_gender_male = df_gender_male['satisfaction'].value_counts()[\"satisfied\"]\n",
    "\n",
    "satisfied_ppl = [satisfied_gender_female, satisfied_gender_male]\n",
    "unsatisfied_ppl = [unsatisfied_gender_female, unsatisfied_gender_male]\n",
    "index = ['Female', 'Male']\n",
    "df = pd.DataFrame({'Satisfied': satisfied_ppl,\n",
    "                    'Unsatisfied': unsatisfied_ppl}, index=index)\n",
    "ax = df.plot.bar(rot=0, color={\"Satisfied\": \"green\", \"Unsatisfied\": \"red\"})\n",
    "\n",
    "plt.title(\"Distinción entre clientes conformes y disconformes por género\")\n",
    "plt.xlabel(\"Género\")\n",
    "plt.ylabel(\"Cantidad\")\n",
    "plt.show()"
   ]
  },
  {
   "cell_type": "markdown",
   "id": "27b8f89e",
   "metadata": {},
   "source": [
    "### inflight_service"
   ]
  },
  {
   "cell_type": "code",
   "execution_count": null,
   "id": "13323789",
   "metadata": {
    "scrolled": false
   },
   "outputs": [],
   "source": [
    "full.inflight_service.value_counts().reindex([1, 2, 3, 4, 5]).plot.bar(rot=0)\n",
    "plt.title(\"Niveles del servicio a bordo\")\n",
    "plt.ylabel(\"Cantidad\")\n",
    "plt.show()"
   ]
  },
  {
   "cell_type": "code",
   "execution_count": null,
   "id": "010b3b4b",
   "metadata": {
    "scrolled": false
   },
   "outputs": [],
   "source": [
    "#OLD INFLIGHT_SERVICES\n",
    "#inflight_service_group = full.groupby([\"inflight_service\"])\n",
    "#full.inflight_service.value_counts().reindex([1, 2, 3, 4, 5]).plot.bar(rot=0)\n",
    "#resultados_inflight_service = inflight_service_group[\"satisfaction\"].value_counts()\n",
    "#resultados_inflight_service.plot.bar()\n",
    "\n",
    "df_inflightServices_1 = full[(full.inflight_service == 1)]\n",
    "df_inflightServices_2 = full[(full.inflight_service == 2)]\n",
    "df_inflightServices_3 = full[(full.inflight_service == 3)]\n",
    "df_inflightServices_4 = full[(full.inflight_service == 4)]\n",
    "df_inflightServices_5 = full[(full.inflight_service == 5)]\n",
    "\n",
    "unsatisfied_inflightServices_1 = df_inflightServices_1['satisfaction'].value_counts()[\"neutral or dissatisfied\"]\n",
    "satisfied_inflightServices_1 = df_inflightServices_1['satisfaction'].value_counts()[\"satisfied\"]\n",
    "\n",
    "unsatisfied_inflightServices_2 = df_inflightServices_2['satisfaction'].value_counts()[\"neutral or dissatisfied\"]\n",
    "satisfied_inflightServices_2 = df_inflightServices_2['satisfaction'].value_counts()[\"satisfied\"]\n",
    "\n",
    "unsatisfied_inflightServices_3 = df_inflightServices_3['satisfaction'].value_counts()[\"neutral or dissatisfied\"]\n",
    "satisfied_inflightServices_3 = df_inflightServices_3['satisfaction'].value_counts()[\"satisfied\"]\n",
    "\n",
    "unsatisfied_inflightServices_4 = df_inflightServices_4['satisfaction'].value_counts()[\"neutral or dissatisfied\"]\n",
    "satisfied_inflightServices_4 = df_inflightServices_4['satisfaction'].value_counts()[\"satisfied\"]\n",
    "\n",
    "unsatisfied_inflightServices_5 = df_inflightServices_5['satisfaction'].value_counts()[\"neutral or dissatisfied\"]\n",
    "satisfied_inflightServices_5 = df_inflightServices_5['satisfaction'].value_counts()[\"satisfied\"]\n",
    "\n",
    "satisfied_ppl = [satisfied_inflightServices_1, satisfied_inflightServices_2, satisfied_inflightServices_3, satisfied_inflightServices_4, satisfied_inflightServices_5]\n",
    "unsatisfied_ppl = [unsatisfied_inflightServices_1, unsatisfied_inflightServices_2, unsatisfied_inflightServices_3, unsatisfied_inflightServices_4,unsatisfied_inflightServices_5 ]\n",
    "index = ['Inflight Services 1', 'Inflight Services 2', 'Inflight Services 3', 'Inflight Services 4', 'Inflight Services 5']\n",
    "df = pd.DataFrame({'Satisfied': satisfied_ppl,\n",
    "                    'Unsatisfied': unsatisfied_ppl}, index=index)\n",
    "ax = df.plot.bar(rot=0, color={\"Satisfied\": \"green\", \"Unsatisfied\": \"red\"})\n",
    "\n",
    "plt.title(\"Distinción entre clientes conformes y disconformes por nivel del servicio a bordo\")\n",
    "plt.xlabel(\"Nivel del servicio a bordo\")\n",
    "plt.ylabel(\"Cantidad\")\n",
    "plt.show()"
   ]
  },
  {
   "cell_type": "code",
   "execution_count": null,
   "id": "7af378d2",
   "metadata": {},
   "outputs": [],
   "source": [
    "print(full.arrival_delay.value_counts())\n",
    "print(\"====================\")\n",
    "print(full.arrival_delay.unique())\n",
    "print(\"====================\")\n",
    "print(full.arrival_delay.nunique())"
   ]
  },
  {
   "cell_type": "code",
   "execution_count": null,
   "id": "a8c98b03",
   "metadata": {},
   "outputs": [],
   "source": []
  }
 ],
 "metadata": {
  "kernelspec": {
   "display_name": "Python 3 (ipykernel)",
   "language": "python",
   "name": "python3"
  },
  "language_info": {
   "codemirror_mode": {
    "name": "ipython",
    "version": 3
   },
   "file_extension": ".py",
   "mimetype": "text/x-python",
   "name": "python",
   "nbconvert_exporter": "python",
   "pygments_lexer": "ipython3",
   "version": "3.8.5"
  },
  "widgets": {
   "application/vnd.jupyter.widget-state+json": {
    "state": {},
    "version_major": 2,
    "version_minor": 0
   }
  }
 },
 "nbformat": 4,
 "nbformat_minor": 5
}
