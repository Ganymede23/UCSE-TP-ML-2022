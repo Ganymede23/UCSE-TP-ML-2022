{
 "cells": [
  {
   "cell_type": "markdown",
   "id": "79bec61d",
   "metadata": {},
   "source": [
    "# Análisis Exploratorio de Datos\n",
    "\n",
    "## Trabajo Práctico Nro. 1 - Grupo 3\n",
    "\n",
    "#### Integrantes:\n",
    "* Ignacio Busso\n",
    "* Lucas Copes\n",
    "* Jesica Heit\n",
    "\n",
    "#### Dataset: https://www.kaggle.com/datasets/teejmahal20/airline-passenger-satisfaction\n",
    "* Detalle: contiene datos de la satisfacción de los pasajeros de diferentes vuelos tomando en cuenta multiples aspectos (calidad del servicio, comodidad, limpieza, etc.)\n",
    "* Target: columna 'satisfaction', para determinar la satisfacción de un pasajero respecto a un vuelo.\n",
    "* Dimensiones: 25 columnas x 129.880 filas.\n",
    "\n"
   ]
  },
  {
   "cell_type": "markdown",
   "id": "ff20b769",
   "metadata": {},
   "source": [
    "## 1 - Listado de variables y selección"
   ]
  },
  {
   "cell_type": "markdown",
   "id": "6cb6aab7",
   "metadata": {},
   "source": [
    "**1. (Columna sin nombre)**: \n",
    "* Contenido: número de identificación de cada fila.\n",
    "* Uso: No será utilizada, ya que incluir el ID en el modelo puede llevar a un overfitting.\n",
    "\n",
    "**2. id:**\n",
    "* Contenido: Contiene un ID único de cada fila. Igual a la columna anterior, pero ordenado de diferente manera.\n",
    "* Uso: No será utilizada, ya que incluir el ID en el modelo puede llevar a un overfitting\n",
    "\n",
    "**3. Gender:**\n",
    "* Contenido: Género de los pasajeros \n",
    "* Uso: Entrada\n",
    "* Transformación: Deberá emplearse One-Hot Encoder para facilitar el manejo de esta variable por parte de los algoritmos de Machine Learning.\n",
    "\n",
    "**4. Customer Type:**\n",
    "* Contenido: Tipo de cliente (Cliente frecuente, Cliente no frecuente) \n",
    "* Uso: Entrada\n",
    "* Transformación: Deberá emplearse One-Hot Encoder para facilitar el manejo de esta variable por parte de los algoritmos de Machine Learning.\n",
    "\n",
    "**5. Age:**\n",
    "* Contenido: Edad actual de los pasajeros\n",
    "* Uso: Entrada\n",
    "* Transformación: Deberá agruparse en intervalos para simplificar su manejo.\n",
    "\n",
    "**6. Type of Travel:**\n",
    "* Contenido: Propósito del viaje (Viaje personal, Viaje Empresarial)\n",
    "* Uso: Entrada\n",
    "* Transformación: Deberá emplearse One-Hot Encoder para facilitar el manejo de esta variable por parte de los algoritmos de Machine Learning.\n",
    "\n",
    "**7. Class:**\n",
    "* Contenido: Clase de Viaje (Business, Eco, Eco Plus)\n",
    "* Uso: Entrada\n",
    "* Transformación: Deberá emplearse One-Hot Encoder para facilitar el manejo de esta variable por parte de los algoritmos de Machine Learning.\n",
    "* Esta variable es altamente correlacionada con el target debido a que los clientes tienden a estar más satisfechos con el servicio prestado por la aerolínea cuando la clase es más alta\n",
    "\n",
    "**8. Flight distance:**\n",
    "* Contenido: Distancia de vuelo de este viaje\n",
    "* Uso: Entrada\n",
    "* Transformación: Deberá agruparse en intervalos para simplificar su manejo.\n",
    "\n",
    "**9. Inflight wifi service:**\n",
    "* Contenido: Nivel de satisfacción del Wifi (0:Not Applicable;1-5).\n",
    "* Uso: Entrada\n",
    "* Transformación: Deberán escalarse los valores y llevarlos a un rango de entre 0 y 1, manteniendo la distribución, con el objetivo de que todas las columnas tengan el mismo peso.\n",
    "* Nulos: El valor 0 en esta variable indica que el servicio en cuestión no aplica. Por lo tanto, los registros con valor 0 son tomados como nulos.\n",
    "\n",
    "**10. Departure/Arrival time convenient:**\n",
    "* Contenido: Nivel de satisfacción en horario de salida/llegada del vuelo.\n",
    "* Uso: Entrada\n",
    "* Transformación: Deberán escalarse los valores y llevarlos a un rango de entre 0 y 1, manteniendo la distribución, con el objetivo de que todas las columnas tengan el mismo peso.\n",
    "* Nulos: El valor 0 en esta variable indica que el servicio en cuestión no aplica. Por lo tanto, los registros con valor 0 son tomados como nulos.\n",
    "\n",
    "**11. Ease of Online booking:**\n",
    "* Contenido: Nivel de satisfacción de reserva online.\n",
    "* Uso: Entrada\n",
    "* Transformación: Deberán escalarse los valores y llevarlos a un rango de entre 0 y 1, manteniendo la distribución, con el objetivo de que todas las columnas tengan el mismo peso.\n",
    "* Nulos: El valor 0 en esta variable indica que el servicio en cuestión no aplica. Por lo tanto, los registros con valor 0 son tomados como nulos.\n",
    "\n",
    "**12. Gate location:**\n",
    "* Contenido: Nivel de satisfacción de ubicación de puerta.\n",
    "* Uso: Entrada\n",
    "* Transformación: Deberán escalarse los valores y llevarlos a un rango de entre 0 y 1, manteniendo la distribución, con el objetivo de que todas las columnas tengan el mismo peso.\n",
    "* Nulos: El valor 0 en esta variable indica que el servicio en cuestión no aplica. Por lo tanto, los registros con valor 0 son tomados como nulos.\n",
    "\n",
    "**13. Food and drink:**\n",
    "* Contenido: Nivel de satisfacción de bebidas y comida.\n",
    "* Uso: Entrada\n",
    "* Transformación: Deberán escalarse los valores y llevarlos a un rango de entre 0 y 1, manteniendo la distribución, con el objetivo de que todas las columnas tengan el mismo peso.\n",
    "* Nulos: El valor 0 en esta variable indica que el servicio en cuestión no aplica. Por lo tanto, los registros con valor 0 son tomados como nulos.\n",
    "\n",
    "**14. Online boarding:**\n",
    "* Contenido: Nivel de satisfacción del Check-In online.\n",
    "* Uso: Entrada\n",
    "* Transformación: Deberán escalarse los valores y llevarlos a un rango de entre 0 y 1, manteniendo la distribución, con el objetivo de que todas las columnas tengan el mismo peso.\n",
    "* Nulos: El valor 0 en esta variable indica que el servicio en cuestión no aplica. Por lo tanto, los registros con valor 0 son tomados como nulos.\n",
    "\n",
    "**15. Seat comfort:**\n",
    "* Contenido: Nivel de satisfacción de comodidad de los asientos. \n",
    "* Uso: Entrada\n",
    "* Transformación: Deberán escalarse los valores y llevarlos a un rango de entre 0 y 1, manteniendo la distribución, con el objetivo de que todas las columnas tengan el mismo peso.\n",
    "* Nulos: El valor 0 en esta variable indica que el servicio en cuestión no aplica. Por lo tanto, los registros con valor 0 son tomados como nulos.\n",
    "\n",
    "**16. Inflight entertainment:**\n",
    "* Contenido: Nivel de satisfacción del entretenimiento en vuelo\n",
    "* Uso: Entrada\n",
    "* Transformación: Deberán escalarse los valores y llevarlos a un rango de entre 0 y 1, manteniendo la distribución, con el objetivo de que todas las columnas tengan el mismo peso.\n",
    "* Nulos: El valor 0 en esta variable indica que el servicio en cuestión no aplica. Por lo tanto, los registros con valor 0 son tomados como nulos.\n",
    "\n",
    "**17. On-board service:**\n",
    "* Contenido: Nivel de satisfacción del cliente con servicio a bordo \n",
    "* Uso: Entrada\n",
    "* Transformación: Deberán escalarse los valores y llevarlos a un rango de entre 0 y 1, manteniendo la distribución, con el objetivo de que todas las columnas tengan el mismo peso.\n",
    "* Nulos: El valor 0 en esta variable indica que el servicio en cuestión no aplica. Por lo tanto, los registros con valor 0 son tomados como nulos.\n",
    "\n",
    "**18. Leg room service:**\n",
    "* Contenido: Nivel de satisfacción del espacio para piernas\n",
    "* Uso: Entrada\n",
    "* Transformación: Deberán escalarse los valores y llevarlos a un rango de entre 0 y 1, manteniendo la distribución, con el objetivo de que todas las columnas tengan el mismo peso.\n",
    "* Nulos: El valor 0 en esta variable indica que el servicio en cuestión no aplica. Por lo tanto, los registros con valor 0 son tomados como nulos.\n",
    "\n",
    "**19. Baggage handling:**\n",
    "* Contenido: Nivel de satisfacción de espacio para equipaje de mano\n",
    "* Uso: Entrada\n",
    "* Transformación: Deberán escalarse los valores y llevarlos a un rango de entre 0 y 1, manteniendo la distribución, con el objetivo de que todas las columnas tengan el mismo peso.\n",
    "* Nulos: El valor 0 en esta variable indica que el servicio en cuestión no aplica. Por lo tanto, los registros con valor 0 son tomados como nulos.\n",
    "\n",
    "**20. Check-in service:**\n",
    "* Contenido: Nivel de satisfacción del servicio de Check-in\n",
    "* Uso: Entrada\n",
    "* Transformación: Deberán escalarse los valores y llevarlos a un rango de entre 0 y 1, manteniendo la distribución, con el objetivo de que todas las columnas tengan el mismo peso.\n",
    "* Nulos: El valor 0 en esta variable indica que el servicio en cuestión no aplica. Por lo tanto, los registros con valor 0 son tomados como nulos.\n",
    "\n",
    "**21. Inflight service:**\n",
    "* Contenido: Nivel de satisfacción del servicio de abordo. \n",
    "* Uso: Entrada\n",
    "* Transformación: Deberán escalarse los valores y llevarlos a un rango de entre 0 y 1, manteniendo la distribución, con el objetivo de que todas las columnas tengan el mismo peso.\n",
    "* Nulos: El valor 0 en esta variable indica que el servicio en cuestión no aplica. Por lo tanto, los registros con valor 0 son tomados como nulos.\n",
    "* Esta variable es altamente correlacionada con el target debido a que los clientes tienden a estar más satisfechos con el servicio prestado por la aerolínea cuando el trato en el servicio a bordo es bueno\n",
    "\n",
    "**22. Cleanliness:**\n",
    "* Contenido: Nivel de satisfacción de limpieza\n",
    "* Uso: Entrada\n",
    "* Transformación: Deberán escalarse los valores y llevarlos a un rango de entre 0 y 1, manteniendo la distribución, con el objetivo de que todas las columnas tengan el mismo peso.\n",
    "* Nulos: El valor 0 en esta variable indica que el servicio en cuestión no aplica. Por lo tanto, los registros con valor 0 son tomados como nulos.\n",
    "* Esta variable es altamente correlacionada con el target debido a que los clientes tienden a estar más satisfechos con el servicio prestado por la aerolínea cuando la limpieza es buena\n",
    "\n",
    "**23. Departure Delay in Minutes:**\n",
    "* Contenido: Minutos de demora en la salida\n",
    "* Uso: Entrada\n",
    "* Transformación: Deberá agruparse en intervalos para simplificar su manejo.\n",
    "\n",
    "**24. Arrival Delay in Minutes:**\n",
    "* Contenido: Minutos de demora en la llegada\n",
    "* Uso: Entrada\n",
    "* Transformación: Deberá agruparse en intervalos para simplificar su manejo..\n",
    "* Nulos: Esta variable presenta 393 filas con valores nulos.\n",
    "\n",
    "**25. Satisfaction:**\n",
    "* Contenido: Nivel de satisfacción de la aerolínea (satisfaction, neutral or dissatisfaction)\n",
    "* Uso: Salida\n",
    "* Valores posibles: 'satisfied' y ‘neutral or dissatisfied’\n",
    "* Transformación: Deberá emplearse One-Hot Encoder para facilitar el manejo de esta variable por parte de los algoritmos de Machine Learning.\n"
   ]
  },
  {
   "cell_type": "code",
   "execution_count": null,
   "id": "4c982e69",
   "metadata": {
    "scrolled": true
   },
   "outputs": [],
   "source": [
    "%matplotlib inline\n",
    "\n",
    "import warnings\n",
    "import numpy as np\n",
    "import pandas as pd\n",
    "from matplotlib import pyplot as plt\n",
    "import seaborn as sns\n",
    "import numpy as np\n",
    "\n",
    "pd.options.display.max_columns = 0\n",
    "\n",
    "#Cambios en el estilo de los graficos\n",
    "plt.style.use('fast')\n",
    "plt.rcParams.update({\n",
    "    \"font.family\": [\"serif\"],\n",
    "    \"font.sans-serif\": [\"Roboto\"],\n",
    "    \"font.size\": 9,\n",
    "    \"axes.labelsize\": 11,\n",
    "    \"axes.titlesize\": 13,\n",
    "    \"xtick.labelsize\": 11,\n",
    "    \"ytick.labelsize\": 11,\n",
    "    \"legend.fontsize\": 11,\n",
    "    'figure.figsize': (11.0, 5.0),\n",
    "    'axes.grid': True,\n",
    "    'axes.spines.left': True,\n",
    "    'axes.spines.right': True,\n",
    "    'axes.spines.top': True,\n",
    "    'axes.spines.bottom': True,\n",
    "})\n",
    "\n",
    "np.set_printoptions(suppress=True)\n",
    "\n",
    "warnings.filterwarnings('ignore')"
   ]
  },
  {
   "cell_type": "code",
   "execution_count": null,
   "id": "c291cb03",
   "metadata": {
    "scrolled": true
   },
   "outputs": [],
   "source": [
    "# Lectura y concatenación de los .csv\n",
    "train = pd.read_csv('data/train.csv', index_col=[0])\n",
    "test = pd.read_csv('data/test.csv', index_col=[0])\n",
    "full = pd.concat([train, test], sort=False)\n",
    "\n",
    "# Asignamos nuevos nombres a algunas de las columnas\n",
    "new_column_names = {\n",
    "    'Gender': 'gender',\n",
    "    'Customer Type': 'customer_type',\n",
    "    'Age': 'age',\n",
    "    'Type of Travel': 'type_of_travel',\n",
    "    'Class': 'ticket_class',\n",
    "    'Flight Distance': 'flight_distance',\n",
    "    'Inflight wifi service': 'wifi_service',\n",
    "    'Departure/Arrival time convenient': 'departure_arrival_time_convenient',\n",
    "    'Ease of Online booking': 'online_booking',\n",
    "    'Gate location': 'gate_location',\n",
    "    'Food and drink': 'food_and_drink',\n",
    "    'Online boarding': 'online_boarding',\n",
    "    'Seat comfort': 'seat_comfort',\n",
    "    'Inflight entertainment': 'inflight_entertainment',\n",
    "    'On-board service': 'onboard_service',\n",
    "    'Leg room service': 'leg_room',\n",
    "    'Baggage handling': 'baggage_handling',\n",
    "    'Checkin service': 'checkin',\n",
    "    'Inflight service': 'inflight_service',\n",
    "    'Cleanliness': 'cleanliness',\n",
    "    'Departure Delay in Minutes': 'departure_delay',\n",
    "    'Arrival Delay in Minutes': 'arrival_delay',\n",
    "}\n",
    "\n",
    "full.rename(columns=new_column_names, inplace=True)\n",
    "full.set_index('id', inplace=True)"
   ]
  },
  {
   "cell_type": "code",
   "execution_count": null,
   "id": "efdf5dde",
   "metadata": {
    "scrolled": true
   },
   "outputs": [],
   "source": [
    "# Cambios de valores\n",
    "full['customer_type'] = full['customer_type'].replace(['disloyal Customer'],'Disloyal Customer')\n",
    "full['ticket_class'] = full['ticket_class'].replace(['Eco Plus','Eco'],['Economy Plus','Economy'])"
   ]
  },
  {
   "cell_type": "markdown",
   "id": "5ade9d28",
   "metadata": {},
   "source": [
    "## 2 - Análisis detallado de las variables"
   ]
  },
  {
   "cell_type": "markdown",
   "id": "b05749ee",
   "metadata": {},
   "source": [
    "### 2.1 - `satisfaction` - Variable *target*"
   ]
  },
  {
   "cell_type": "code",
   "execution_count": null,
   "id": "59090c65",
   "metadata": {
    "scrolled": false
   },
   "outputs": [],
   "source": [
    "full.satisfaction.value_counts().plot.bar(rot=0)\n",
    "print(full.satisfaction.value_counts())\n",
    "\n",
    "plt.title(\"Nivel de satisfacción\")\n",
    "plt.ylabel(\"Cantidad\")\n",
    "plt.show()"
   ]
  },
  {
   "cell_type": "markdown",
   "id": "9535bc7b",
   "metadata": {},
   "source": [
    "Nuestra variable de salida es el nivel de satisfacción de cada pasajero luego de un vuelo. Podemos observar que si bien hay una diferencia notable entre “neutral or dissatisfied” (73400, 56.6%) y “satisfied” (56400, 43.4%)  el balance no es tan distinto.\n",
    "\n",
    "Esto podría indicar una variable con un nivel de caos un poco alto, lo cual quizá haga que realizar predicciones buenas sea un poco más difícil. Sin embargo hay que tener en en cuenta que este balance es así ya que en “neutral or dissatisfied” se encuentran tanto valores muy negativos como intermedios, lo cual explicaría esa cuantificación mayor. Puede que esto sea algo a tener en cuenta a la hora de entrenar el modelo."
   ]
  },
  {
   "cell_type": "markdown",
   "id": "4a43697c",
   "metadata": {},
   "source": [
    "### 2.2A - `customer_type`"
   ]
  },
  {
   "cell_type": "code",
   "execution_count": null,
   "id": "35ea9d1c",
   "metadata": {
    "scrolled": false
   },
   "outputs": [],
   "source": [
    "full.customer_type.value_counts().plot.bar(rot=0)\n",
    "plt.title(\"Tipos de clientes\")\n",
    "plt.ylabel(\"Cantidad\")\n",
    "plt.show()"
   ]
  },
  {
   "cell_type": "code",
   "execution_count": null,
   "id": "39c2280b",
   "metadata": {},
   "outputs": [],
   "source": [
    "df_loyal_customers = full[(full.customer_type == \"Loyal Customer\")]\n",
    "df_disloyal_customers = full[(full.customer_type == \"Disloyal Customer\")]\n",
    "\n",
    "unsatisfied_loyal_customers = df_loyal_customers['satisfaction'].value_counts()[\"neutral or dissatisfied\"]\n",
    "unsatisfied_disloyal_customers = df_disloyal_customers['satisfaction'].value_counts()[\"neutral or dissatisfied\"]\n",
    "satisfied_loyal_customers = df_loyal_customers['satisfaction'].value_counts()[\"satisfied\"]\n",
    "satisfied_disloyal_customers = df_disloyal_customers['satisfaction'].value_counts()[\"satisfied\"]\n",
    "\n",
    "satisfied_ppl = [satisfied_loyal_customers, satisfied_disloyal_customers]\n",
    "unsatisfied_ppl = [unsatisfied_loyal_customers, unsatisfied_disloyal_customers]\n",
    "index = ['Loyal Customers', 'Disloyal Customers']\n",
    "df = pd.DataFrame({'Satisfied': satisfied_ppl,\n",
    "                    'Unsatisfied': unsatisfied_ppl}, index=index)\n",
    "ax = df.plot.bar(rot=0, color={\"Satisfied\": \"green\", \"Unsatisfied\": \"red\"})\n",
    "\n",
    "plt.title(\"Distinción entre clientes conformes y disconformes por tipo de cliente\")\n",
    "plt.xlabel(\"Tipo de cliente\")\n",
    "plt.ylabel(\"Cantidad\")\n",
    "plt.show()"
   ]
  },
  {
   "cell_type": "markdown",
   "id": "6615b8ad",
   "metadata": {},
   "source": [
    "La relación entre el tipo de cliente (leal o desleal) y el nivel de satisfacción es interesante. Si hablamos de cliente ‘Leal’, la diferencia entre clientes satisfechos e insatisfechos es de tan solo cinco puntos porcentuales en favor de los últimos.\n",
    "\n",
    "En cambio, en el caso de clientes ‘Desleales’, cerca del 76% no se encuentra conforme con las cualidades del servicio prestado."
   ]
  },
  {
   "cell_type": "markdown",
   "id": "885f0ec0",
   "metadata": {},
   "source": [
    "### 2.2B - `ticket_class`"
   ]
  },
  {
   "cell_type": "code",
   "execution_count": null,
   "id": "684f2dba",
   "metadata": {
    "scrolled": false
   },
   "outputs": [],
   "source": [
    "full.ticket_class.value_counts().reindex([\"Business\", \"Economy Plus\", \"Economy\"]).plot.bar(rot=0)\n",
    "plt.title(\"Clases\")\n",
    "plt.ylabel(\"Cantidad\")\n",
    "plt.show()"
   ]
  },
  {
   "cell_type": "code",
   "execution_count": null,
   "id": "28fcd81e",
   "metadata": {
    "scrolled": false
   },
   "outputs": [],
   "source": [
    "df_business = full[(full.ticket_class == \"Business\")]\n",
    "df_eco_plus = full[(full.ticket_class == \"Economy Plus\")]\n",
    "df_eco = full[(full.ticket_class == \"Economy\")]\n",
    "\n",
    "unsatisfied_business = df_business['satisfaction'].value_counts()[\"neutral or dissatisfied\"]\n",
    "unsatisfied_eco_plus = df_eco_plus['satisfaction'].value_counts()[\"neutral or dissatisfied\"]\n",
    "unsatisfied_eco = df_eco['satisfaction'].value_counts()[\"neutral or dissatisfied\"]\n",
    "satisfied_business = df_business['satisfaction'].value_counts()[\"satisfied\"]\n",
    "satisfied_eco_plus = df_eco_plus['satisfaction'].value_counts()[\"satisfied\"]\n",
    "satisfied_eco = df_eco['satisfaction'].value_counts()[\"satisfied\"]\n",
    "\n",
    "satisfied_ppl = [satisfied_business, satisfied_eco_plus, satisfied_eco]\n",
    "unsatisfied_ppl = [unsatisfied_business, unsatisfied_eco_plus, unsatisfied_eco]\n",
    "index = ['Business', 'Economy Plus', 'Economy']\n",
    "df = pd.DataFrame({'Satisfied': satisfied_ppl,\n",
    "                    'Unsatisfied': unsatisfied_ppl}, index=index)\n",
    "ax = df.plot.bar(rot=0, color={\"Satisfied\": \"green\", \"Unsatisfied\": \"red\"})\n",
    "\n",
    "plt.title(\"Distinción entre clientes conformes y disconformes por clase\")\n",
    "plt.xlabel(\"Clase\")\n",
    "plt.ylabel(\"Cantidad\")\n",
    "plt.show()"
   ]
  },
  {
   "cell_type": "markdown",
   "id": "116fba73",
   "metadata": {},
   "source": [
    "La relación entre la clase del ticket y la satisfacción general de los pasajeros revela dos puntos principales:\n",
    "* De un total de más de 60000 pasajeros que viajaron en categoría Business, casi el 70% se encuentra satisfecho (43000), mientras que solo un 30% quedó insatisfecho o con una posición neutral.\n",
    "* Por el otro lado, el porcentaje de pasajeros descontentos con el servicio prestado por las aerolíneas ronda el 80% para la clase Economy y el 75% para la clase Economy Plus, sobre un total de aproximadamente 58000 y 9400 pasajeros respectivamente.\n"
   ]
  },
  {
   "cell_type": "markdown",
   "id": "cd8a0da5",
   "metadata": {},
   "source": [
    "### 2.2C - `cleanliness`"
   ]
  },
  {
   "cell_type": "code",
   "execution_count": null,
   "id": "0988e158",
   "metadata": {},
   "outputs": [],
   "source": [
    "full.cleanliness.value_counts().reindex([1, 2, 3, 4, 5]).plot.bar(rot=0)\n",
    "plt.title(\"Niveles de limpieza\")\n",
    "plt.ylabel(\"Cantidad\")\n",
    "plt.show()"
   ]
  },
  {
   "cell_type": "code",
   "execution_count": null,
   "id": "b283d58e",
   "metadata": {
    "scrolled": false
   },
   "outputs": [],
   "source": [
    "df_cleanliness_1 = full[(full.cleanliness == 1)]\n",
    "df_cleanliness_2 = full[(full.cleanliness == 2)]\n",
    "df_cleanliness_3 = full[(full.cleanliness == 3)]\n",
    "df_cleanliness_4 = full[(full.cleanliness == 4)]\n",
    "df_cleanliness_5 = full[(full.cleanliness == 5)]\n",
    "\n",
    "unsatisfied_cleanliness_1 = df_cleanliness_1['satisfaction'].value_counts()[\"neutral or dissatisfied\"]\n",
    "satisfied_cleanliness_1 = df_cleanliness_1['satisfaction'].value_counts()[\"satisfied\"]\n",
    "\n",
    "unsatisfied_cleanliness_2 = df_cleanliness_2['satisfaction'].value_counts()[\"neutral or dissatisfied\"]\n",
    "satisfied_cleanliness_2 = df_cleanliness_2['satisfaction'].value_counts()[\"satisfied\"]\n",
    "\n",
    "unsatisfied_cleanliness_3 = df_cleanliness_3['satisfaction'].value_counts()[\"neutral or dissatisfied\"]\n",
    "satisfied_cleanliness_3 = df_cleanliness_3['satisfaction'].value_counts()[\"satisfied\"]\n",
    "\n",
    "unsatisfied_cleanliness_4 = df_cleanliness_4['satisfaction'].value_counts()[\"neutral or dissatisfied\"]\n",
    "satisfied_cleanliness_4 = df_cleanliness_4['satisfaction'].value_counts()[\"satisfied\"]\n",
    "\n",
    "unsatisfied_cleanliness_5 = df_cleanliness_5['satisfaction'].value_counts()[\"neutral or dissatisfied\"]\n",
    "satisfied_cleanliness_5 = df_cleanliness_5['satisfaction'].value_counts()[\"satisfied\"]\n",
    "\n",
    "\n",
    "satisfied_ppl = [satisfied_cleanliness_1, satisfied_cleanliness_2, satisfied_cleanliness_3, satisfied_cleanliness_4, satisfied_cleanliness_5]\n",
    "unsatisfied_ppl = [unsatisfied_cleanliness_1, unsatisfied_cleanliness_2, unsatisfied_cleanliness_3, unsatisfied_cleanliness_4,unsatisfied_cleanliness_5 ]\n",
    "index = ['Cleanliness 1', 'Cleanliness 2', 'Cleanliness 3', 'Cleanliness 4', 'Cleanliness 5']\n",
    "df = pd.DataFrame({'Satisfied': satisfied_ppl,\n",
    "                    'Unsatisfied': unsatisfied_ppl}, index=index)\n",
    "ax = df.plot.bar(rot=0, color={\"Satisfied\": \"green\", \"Unsatisfied\": \"red\"})\n",
    "\n",
    "plt.title(\"Distinción entre clientes conformes y disconformes por nivel de limpieza\")\n",
    "plt.xlabel(\"Nivel de limpieza\")\n",
    "plt.ylabel(\"Cantidad\")\n",
    "plt.show()"
   ]
  },
  {
   "cell_type": "markdown",
   "id": "136c83c4",
   "metadata": {},
   "source": [
    "El análisis sobre la relación entre el nivel de limpieza percibido por los pasajeros y su nivel final de satisfacción es clave. Puede apreciarse que en la gran mayoría de los casos donde la limpieza deja que desear, el nivel de conformidad con el servicio baja considerablemente, mientras que en casos donde el nivel de limpieza es bueno, la satisfacción general aumenta."
   ]
  },
  {
   "cell_type": "markdown",
   "id": "27b8f89e",
   "metadata": {},
   "source": [
    "### 2.2D - `inflight_service`"
   ]
  },
  {
   "cell_type": "code",
   "execution_count": null,
   "id": "13323789",
   "metadata": {
    "scrolled": false
   },
   "outputs": [],
   "source": [
    "full.inflight_service.value_counts().reindex([1, 2, 3, 4, 5]).plot.bar(rot=0)\n",
    "plt.title(\"Niveles del servicio a bordo\")\n",
    "plt.ylabel(\"Cantidad\")\n",
    "plt.show()"
   ]
  },
  {
   "cell_type": "code",
   "execution_count": null,
   "id": "010b3b4b",
   "metadata": {
    "scrolled": false
   },
   "outputs": [],
   "source": [
    "df_inflightServices_1 = full[(full.inflight_service == 1)]\n",
    "df_inflightServices_2 = full[(full.inflight_service == 2)]\n",
    "df_inflightServices_3 = full[(full.inflight_service == 3)]\n",
    "df_inflightServices_4 = full[(full.inflight_service == 4)]\n",
    "df_inflightServices_5 = full[(full.inflight_service == 5)]\n",
    "\n",
    "unsatisfied_inflightServices_1 = df_inflightServices_1['satisfaction'].value_counts()[\"neutral or dissatisfied\"]\n",
    "satisfied_inflightServices_1 = df_inflightServices_1['satisfaction'].value_counts()[\"satisfied\"]\n",
    "\n",
    "unsatisfied_inflightServices_2 = df_inflightServices_2['satisfaction'].value_counts()[\"neutral or dissatisfied\"]\n",
    "satisfied_inflightServices_2 = df_inflightServices_2['satisfaction'].value_counts()[\"satisfied\"]\n",
    "\n",
    "unsatisfied_inflightServices_3 = df_inflightServices_3['satisfaction'].value_counts()[\"neutral or dissatisfied\"]\n",
    "satisfied_inflightServices_3 = df_inflightServices_3['satisfaction'].value_counts()[\"satisfied\"]\n",
    "\n",
    "unsatisfied_inflightServices_4 = df_inflightServices_4['satisfaction'].value_counts()[\"neutral or dissatisfied\"]\n",
    "satisfied_inflightServices_4 = df_inflightServices_4['satisfaction'].value_counts()[\"satisfied\"]\n",
    "\n",
    "unsatisfied_inflightServices_5 = df_inflightServices_5['satisfaction'].value_counts()[\"neutral or dissatisfied\"]\n",
    "satisfied_inflightServices_5 = df_inflightServices_5['satisfaction'].value_counts()[\"satisfied\"]\n",
    "\n",
    "satisfied_ppl = [satisfied_inflightServices_1, satisfied_inflightServices_2, satisfied_inflightServices_3, satisfied_inflightServices_4, satisfied_inflightServices_5]\n",
    "unsatisfied_ppl = [unsatisfied_inflightServices_1, unsatisfied_inflightServices_2, unsatisfied_inflightServices_3, unsatisfied_inflightServices_4,unsatisfied_inflightServices_5 ]\n",
    "index = ['Inflight Services 1', 'Inflight Services 2', 'Inflight Services 3', 'Inflight Services 4', 'Inflight Services 5']\n",
    "df = pd.DataFrame({'Satisfied': satisfied_ppl,\n",
    "                    'Unsatisfied': unsatisfied_ppl}, index=index)\n",
    "ax = df.plot.bar(rot=0, color={\"Satisfied\": \"green\", \"Unsatisfied\": \"red\"})\n",
    "\n",
    "plt.title(\"Distinción entre clientes conformes y disconformes por nivel del servicio a bordo\")\n",
    "plt.xlabel(\"Nivel del servicio a bordo\")\n",
    "plt.ylabel(\"Cantidad\")\n",
    "plt.show()"
   ]
  },
  {
   "cell_type": "markdown",
   "id": "ead21410",
   "metadata": {},
   "source": [
    "Realizando un análisis preliminar de los datos podemos observar varias cosas:\n",
    "\n",
    "* Que la mayoría de votos rondan entre la puntuación 4 y 5, lo que indica que en su mayor parte los pasajeros están satisfechos por el servicio de a bordo recibido durante el vuelo. \n",
    "* Si miramos esto comparado con la satisfacción, cabría esperar que los votantes que están satisfechos con el servicio en vuelo tenderían a tener un mejor nivel de satisfacción y viceversa si se muestra lo contrario. Sin embargo, esto es solo parcial. Si bien la cantidad de pasajeros satisfechos aumenta considerablemente con una puntuación de 4, la cantidad de pasajeros no satisfechos sigue siendo levemente mayor. Esto indica que hay otras variables con mayor peso en juego que afectan a la variable `target`."
   ]
  },
  {
   "cell_type": "markdown",
   "id": "9a4572f5",
   "metadata": {},
   "source": [
    "### 2.2E - `gender`"
   ]
  },
  {
   "cell_type": "code",
   "execution_count": null,
   "id": "cafea25f",
   "metadata": {
    "scrolled": false
   },
   "outputs": [],
   "source": [
    "full.gender.value_counts().plot.bar(rot=0)\n",
    "print(full.gender.value_counts())\n",
    "plt.title(\"Géneros\")\n",
    "plt.ylabel(\"Cantidad\")\n",
    "plt.show()"
   ]
  },
  {
   "cell_type": "code",
   "execution_count": null,
   "id": "596454fe",
   "metadata": {
    "scrolled": false
   },
   "outputs": [],
   "source": [
    "df_gender_female = full[(full.gender == \"Female\")]\n",
    "df_gender_male = full[(full.gender == \"Male\")]\n",
    "\n",
    "unsatisfied_gender_female = df_gender_female['satisfaction'].value_counts()[\"neutral or dissatisfied\"]\n",
    "satisfied_gender_female = df_gender_female['satisfaction'].value_counts()[\"satisfied\"]\n",
    "\n",
    "unsatisfied_gender_male = df_gender_male['satisfaction'].value_counts()[\"neutral or dissatisfied\"]\n",
    "satisfied_gender_male = df_gender_male['satisfaction'].value_counts()[\"satisfied\"]\n",
    "\n",
    "satisfied_ppl = [satisfied_gender_female, satisfied_gender_male]\n",
    "unsatisfied_ppl = [unsatisfied_gender_female, unsatisfied_gender_male]\n",
    "\n",
    "index = ['Female', 'Male']\n",
    "df = pd.DataFrame({'Satisfied': satisfied_ppl,\n",
    "                    'Unsatisfied': unsatisfied_ppl}, index=index)\n",
    "ax = df.plot.bar(rot=0, color={\"Satisfied\": \"green\", \"Unsatisfied\": \"red\"})\n",
    "\n",
    "plt.title(\"Distinción entre clientes conformes y disconformes por género\")\n",
    "plt.xlabel(\"Género\")\n",
    "plt.ylabel(\"Cantidad\")\n",
    "plt.show()"
   ]
  },
  {
   "cell_type": "markdown",
   "id": "c50053ad",
   "metadata": {},
   "source": [
    "El dataset cuenta la evaluación de 65900 mujeres y casi 64000 hombres.\n",
    "\n",
    "En lo que respecta a sus niveles de satisfacción con el servicio provisto, estos mantienen un comportamiento muy similar entre ambos, lo cual indica que esta variable parece tener un peso menor sobre el `target` comparado con otras."
   ]
  },
  {
   "cell_type": "markdown",
   "id": "97d53eae",
   "metadata": {},
   "source": [
    "### 2.2A - Nulos\n",
    "La única columna con datos nulos es la de 'arrival_delay'. Estos casos serán imputados en base a todos los ya existentes."
   ]
  },
  {
   "cell_type": "code",
   "execution_count": null,
   "id": "b6e89821",
   "metadata": {},
   "outputs": [],
   "source": [
    "full.isnull().sum()"
   ]
  },
  {
   "cell_type": "markdown",
   "id": "89e1fede",
   "metadata": {},
   "source": [
    "Sin embargo, buena parte de las columnas que hacen referencia a un servicio (desde 'wifi_service' hasta 'cleanliness') poseen un valor 0 asignado. En este contexto, el valor 0 en indica que el servicio en cuestión no aplica, por lo que es tomado como un Null. \n",
    "\n",
    "Resta definir si la totalidad de estos valores será imputada o si las filas serán descartadas. Debe estudiarse su impacto sobre la variable target."
   ]
  },
  {
   "cell_type": "code",
   "execution_count": null,
   "id": "f9cb10a6",
   "metadata": {
    "scrolled": false
   },
   "outputs": [],
   "source": [
    "(full == 0).sum()"
   ]
  },
  {
   "cell_type": "markdown",
   "id": "fd6db45e",
   "metadata": {},
   "source": [
    "### 2.2B - Valores extremos\n",
    "Podemos encontrar valores extremos en las columnas 'arrival_delay' y 'departure_delay'.\n",
    "Primero veremos el caso de los retrasos en el arribo de los vuelos:"
   ]
  },
  {
   "cell_type": "code",
   "execution_count": null,
   "id": "2723b6b8",
   "metadata": {},
   "outputs": [],
   "source": [
    "#Segmentación de los datos en intervalos\n",
    "arrival_delay_0 = len(full[full['arrival_delay'] == 0])\n",
    "arrival_delay_15 = len(full[full['arrival_delay'].between(1, 15)])\n",
    "arrival_delay_30 = len(full[full['arrival_delay'].between(16, 30)])\n",
    "arrival_delay_45 = len(full[full['arrival_delay'].between(31, 45)])\n",
    "arrival_delay_60 = len(full[full['arrival_delay'].between(46, 60)])\n",
    "arrival_delay_120 = len(full[full['arrival_delay'].between(61, 120)])\n",
    "arrival_delay_180 = len(full[full['arrival_delay'].between(121, 180)])\n",
    "arrival_delay_240 = len(full[full['arrival_delay'].between(181, 240)])\n",
    "arrival_delay_300 = len(full[full['arrival_delay'].between(241, 300)])\n",
    "arrival_delay_360 = len(full[full['arrival_delay'].between(301, 360)])\n",
    "arrival_delay_720 = len(full[full['arrival_delay'].between(361, 720)])\n",
    "arrival_delay_1440 = len(full[full['arrival_delay'].between(721, 1440)])\n",
    "arrival_delay_1440_plus = len(full[full['arrival_delay'] > 1440])\n",
    "\n",
    "arrival_delays = [arrival_delay_0, arrival_delay_15, arrival_delay_30, arrival_delay_45, \n",
    "                 arrival_delay_60, arrival_delay_120, arrival_delay_180, arrival_delay_240, \n",
    "                 arrival_delay_300, arrival_delay_360, arrival_delay_720, arrival_delay_1440, \n",
    "                 arrival_delay_1440_plus]\n",
    "delays_strings = ['Sin retraso:', 'Entre 1 y 15 minutos:', 'Entre 15 y 30 minutos:', 'Entre 30 y 45 minutos:', \n",
    "                  'Entre 45 y 60 minutos:', 'Entre 1 y 2 horas:', 'Entre 2 y 3 horas:', 'Entre 3 y 4 horas:', \n",
    "                  'Entre 4 y 5 horas:', 'Entre 5 y 6 horas:', 'Entre 6 y 12 horas:', 'Entre 12 y 24 horas:',\n",
    "                  'Mas de 24 horas:']\n",
    "percentages = []\n",
    "accumulated_percentages = []\n",
    "\n",
    "accumulated_percentage = 0\n",
    "for index, delay in enumerate(arrival_delays):\n",
    "    percentage = delay/full.shape[0]*100\n",
    "    accumulated_percentage += percentage\n",
    "    percentages.append(percentage)\n",
    "    accumulated_percentages.append(accumulated_percentage)\n",
    "    \n",
    "df = pd.DataFrame(list(zip(delays_strings, arrival_delays, percentages, accumulated_percentages)),\n",
    "               columns =['Retraso', 'Nro. de vuelos', 'Porcentaje', 'Porcentaje acumulado'])\n",
    "\n",
    "df"
   ]
  },
  {
   "cell_type": "markdown",
   "id": "17253e24",
   "metadata": {},
   "source": [
    "Considerando esta segmentación, podemos ver que solo el 0.424% de los vuelos tiene demoras en el arribo de más de 5hs. Podemos considerar a este como el threshold que delimita valores extremos. Bajo este concepto, todo registro con demoras mayores a 5hs será clasificado como un valor extremo y será eliminado del dataset.\n",
    "\n",
    "Debe tenerse en cuenta que esta columna posee 393 nulos, por lo que los porcentajes actualmente se ven ligeramente afectados."
   ]
  },
  {
   "cell_type": "markdown",
   "id": "ee287ce3",
   "metadata": {},
   "source": [
    "Ahora, en el caso del despegue de los vuelos:"
   ]
  },
  {
   "cell_type": "code",
   "execution_count": null,
   "id": "51021a6a",
   "metadata": {},
   "outputs": [],
   "source": [
    "departure_delay_0 = len(full[full['departure_delay'] == 0])\n",
    "departure_delay_15 = len(full[full['departure_delay'].between(1, 15)])\n",
    "departure_delay_30 = len(full[full['departure_delay'].between(16, 30)])\n",
    "departure_delay_45 = len(full[full['departure_delay'].between(31, 45)])\n",
    "departure_delay_60 = len(full[full['departure_delay'].between(46, 60)])\n",
    "departure_delay_120 = len(full[full['departure_delay'].between(61, 120)])\n",
    "departure_delay_180 = len(full[full['departure_delay'].between(121, 180)])\n",
    "departure_delay_240 = len(full[full['departure_delay'].between(181, 240)])\n",
    "departure_delay_300 = len(full[full['departure_delay'].between(241, 300)])\n",
    "departure_delay_360 = len(full[full['departure_delay'].between(301, 360)])\n",
    "departure_delay_720 = len(full[full['departure_delay'].between(361, 720)])\n",
    "departure_delay_1440 = len(full[full['departure_delay'].between(721, 1440)])\n",
    "departure_delay_1440_plus = len(full[full['departure_delay'] > 1440])\n",
    "\n",
    "departure_delays = [departure_delay_0, departure_delay_15, departure_delay_30, departure_delay_45, \n",
    "                 departure_delay_60, departure_delay_120, departure_delay_180, departure_delay_240, \n",
    "                 departure_delay_300, departure_delay_360, departure_delay_720, departure_delay_1440, \n",
    "                 departure_delay_1440_plus]\n",
    "delays_strings = ['Sin retraso:', 'Entre 1 y 15 minutos:', 'Entre 15 y 30 minutos:', 'Entre 30 y 45 minutos:', \n",
    "                  'Entre 45 y 60 minutos:', 'Entre 1 y 2 horas:', 'Entre 2 y 3 horas:', 'Entre 3 y 4 horas:', \n",
    "                  'Entre 4 y 5 horas:', 'Entre 5 y 6 horas:', 'Entre 6 y 12 horas:', 'Entre 12 y 24 horas:',\n",
    "                  'Mas de 24 horas:']\n",
    "percentages = []\n",
    "accumulated_percentages = []\n",
    "\n",
    "accumulated_percentage = 0\n",
    "for index, delay in enumerate(departure_delays):\n",
    "    percentage = delay/full.shape[0]*100\n",
    "    accumulated_percentage += percentage\n",
    "    percentages.append(percentage)\n",
    "    accumulated_percentages.append(accumulated_percentage)\n",
    "    \n",
    "df = pd.DataFrame(list(zip(delays_strings, departure_delays, percentages, accumulated_percentages)),\n",
    "               columns =['Retraso', 'Nro. de vuelos', 'Porcentaje', 'Porcentaje acumulado'])\n",
    "\n",
    "df"
   ]
  },
  {
   "cell_type": "markdown",
   "id": "05a06b31",
   "metadata": {},
   "source": [
    "Considerando esta segmentación, podemos ver que solo el 0.455% de los vuelos tiene demoras en el despegue de más de 3hs. Podemos considerar a este como el threshold que delimita valores extremos. Bajo este concepto, todo registro con demoras mayores a 3hs será clasificado como un valor extremo y será eliminado del dataset.\n",
    "\n",
    "En el siguiente gráfico podemos apreciar claramente los valores extremos en las variables `arrival_delay`y `departure_delay`:"
   ]
  },
  {
   "cell_type": "code",
   "execution_count": null,
   "id": "fb977313",
   "metadata": {},
   "outputs": [],
   "source": [
    "full.plot.scatter(x=\"departure_delay\", y=\"arrival_delay\")\n",
    "plt.title(\"Diagrama de dispersión entre retraso de salida y retraso de llegada\")\n",
    "plt.xlabel(\"Retraso de salida\")\n",
    "plt.ylabel(\"Retraso de llegada\")\n",
    "plt.show()"
   ]
  },
  {
   "cell_type": "markdown",
   "id": "1b8cc4d2",
   "metadata": {},
   "source": [
    "### Heatmap"
   ]
  },
  {
   "cell_type": "markdown",
   "id": "934c81f9",
   "metadata": {},
   "source": [
    "En primer lugar hacemos una copia del DataFrame, para luego realizar cambios en los valores cualitativos y reemplazarlos por valores discretos."
   ]
  },
  {
   "cell_type": "code",
   "execution_count": null,
   "id": "f191040c",
   "metadata": {},
   "outputs": [],
   "source": [
    "# Cambios de valores\n",
    "heatmap_df = full.copy(deep=True)\n",
    "heatmap_df['satisfaction'] = heatmap_df['satisfaction'].replace(['neutral or dissatisfied','satisfied'],[0,1])\n",
    "heatmap_df['ticket_class'] = heatmap_df['ticket_class'].replace(['Business','Economy Plus','Economy'],[1,0.5,0])\n",
    "\n",
    "plt.figure(figsize = (15,15))\n",
    "sns.heatmap(full.corr(),annot=True, cmap='coolwarm')\n",
    "plt.show()"
   ]
  },
  {
   "cell_type": "markdown",
   "id": "6fe5e588",
   "metadata": {},
   "source": [
    "## 3 - Hipótesis sobre los datos"
   ]
  },
  {
   "cell_type": "markdown",
   "id": "6d3cb408",
   "metadata": {},
   "source": [
    "### 3.1 - Hipótesis"
   ]
  },
  {
   "cell_type": "markdown",
   "id": "b2c3216f",
   "metadata": {},
   "source": [
    "#### - Número 1\n",
    "Podemos plantear que la variable de satisfacción se ve correlacionada con la calidad de los servicios ofrecidos por la aerolínea, servicios como la limpieza, el trato del servicio a bordo, el espacio para almacenar equipaje de mano, el lugar para posicionar las piernas, servicio de bebida y comida, comodidad de los asientos, el tiempo de arribo y llegada a destino, entre otros."
   ]
  },
  {
   "cell_type": "markdown",
   "id": "61058955",
   "metadata": {},
   "source": [
    "#### - Número 2\n",
    "Podemos plantear que la variable de `satisfaction` se ve correlacionada con la variable `ticket_class`"
   ]
  },
  {
   "cell_type": "code",
   "execution_count": null,
   "id": "b34c7427",
   "metadata": {},
   "outputs": [],
   "source": [
    "full.satisfaction.value_counts().plot.bar(rot=0)\n",
    "print(full.satisfaction.value_counts())\n",
    "\n",
    "plt.title(\"Nivel de satisfacción\")\n",
    "plt.ylabel(\"Cantidad\")\n",
    "plt.show()"
   ]
  },
  {
   "cell_type": "markdown",
   "id": "2891bfd9",
   "metadata": {},
   "source": [
    "Con los datos analizados podemos observar que es correcta la hipótesis que se planteó anteriormente.\n",
    "Podemos observar que los pasajeros, demuestran el nivel de satisfacción con la aerolínea basados en los servicios que se ofrecieron en el vuelo.\n",
    "\n"
   ]
  },
  {
   "cell_type": "code",
   "execution_count": null,
   "id": "48d9802c",
   "metadata": {},
   "outputs": [],
   "source": [
    "full.ticket_class.value_counts().reindex([\"Business\", \"Economy Plus\", \"Economy\"]).plot.bar(rot=0)\n",
    "plt.title(\"Clases\")\n",
    "plt.ylabel(\"Cantidad\")\n",
    "plt.show()"
   ]
  },
  {
   "cell_type": "markdown",
   "id": "0ccb3f01",
   "metadata": {},
   "source": [
    "Se observa que los pasajeros que suelen viajar en clase económica son quienes se encuentran menos conformes con el servicio prestado. Esto puede deberse a que en clase Económica no se ofrecen la totalidad de los servicios que se brindan en una clase Economy Plus o Business.\n",
    "\n",
    "Se observa que los pasajeros que suelen viajar en clase Business generalmente se encuentran mucho mas complacidos con la calidad superior de servicios ofrecidos prestados, como una mayor comodidad en los asientos, mejor servicio de bebida y comida, además de un trato más personalizado por parte de la tripulación."
   ]
  },
  {
   "cell_type": "markdown",
   "id": "327bdc2e",
   "metadata": {},
   "source": [
    "#### - Número 3\n",
    "Podemos plantear que las variables de `seat_comfort` y `cleanliness` se encuentran correlacionadas, y esto puede entenderse de dos maneras:\n",
    "1. El pasajero puede sentirse más cómodo ya que el nivel de limpieza es alto.\n",
    "2. Puede que las condiciones de limpieza sean mejores en un asiento de mejor calidad y/o más confortable.\n",
    "\n",
    "El Heatmap del punto 3 muestra una correlación entre estas variables de 0.68."
   ]
  },
  {
   "cell_type": "markdown",
   "id": "77f7af87",
   "metadata": {},
   "source": [
    "#### - Número 4\n",
    "Podemos plantear que existe una correlación fuerte entre las variables `departure_delay` y `arrival_delay`, por razones lógicas, ya que independientemente de la tardanza que puede tener o no un vuelo en depegar, el tiempo de viaje entre destinos es el mismo."
   ]
  },
  {
   "cell_type": "code",
   "execution_count": null,
   "id": "e98e3a51",
   "metadata": {},
   "outputs": [],
   "source": [
    "full.plot.scatter(x=\"departure_delay\", y=\"arrival_delay\")\n",
    "plt.title(\"Diagrama de dispersión entre retraso de salida y retraso de llegada\")\n",
    "plt.xlabel(\"Retraso de salida\")\n",
    "plt.ylabel(\"Retraso de llegada\")\n",
    "plt.show()"
   ]
  },
  {
   "cell_type": "markdown",
   "id": "9ea34fdc",
   "metadata": {},
   "source": [
    "El Heatmap del punto 3 muestra una correlación entre estas variables de 0.97."
   ]
  },
  {
   "cell_type": "markdown",
   "id": "73290bce",
   "metadata": {},
   "source": [
    "### 3.2 - Hallazgos encontrados"
   ]
  },
  {
   "cell_type": "markdown",
   "id": "d6d79b0d",
   "metadata": {},
   "source": [
    "#### - Número 1\n",
    "Según el Heatmap del punto 3, las variables `wifi_service` y `online_booking` tienen una correlación de 0.71. Sin embargo, no existe evidencia que las conecte de forma real.\n",
    "\n",
    "#### - Número 2\n",
    "Al observar el heatmap pudimos descubrir una correlación mediana entre `cleanliness` y algunos servicios ofrecidos a bordo como `inflight_entertainment` (0.69), `food_and_drink` (0.66). Esto puede indicar dos cosas:\n",
    "1. Que gracias a un nivel de limpieza mayor, los pasajeros disfrutan más de los demás servicios.\n",
    "2. Que al ser mejor estos servicios ofrecidos, los pasajeros puedan denotar un mejor servicio en general y por ende una limpieza mejor realizada.\n",
    "\n"
   ]
  }
 ],
 "metadata": {
  "kernelspec": {
   "display_name": "Python 3 (ipykernel)",
   "language": "python",
   "name": "python3"
  },
  "language_info": {
   "codemirror_mode": {
    "name": "ipython",
    "version": 3
   },
   "file_extension": ".py",
   "mimetype": "text/x-python",
   "name": "python",
   "nbconvert_exporter": "python",
   "pygments_lexer": "ipython3",
   "version": "3.8.5"
  },
  "widgets": {
   "application/vnd.jupyter.widget-state+json": {
    "state": {},
    "version_major": 2,
    "version_minor": 0
   }
  }
 },
 "nbformat": 4,
 "nbformat_minor": 5
}
