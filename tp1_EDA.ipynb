{
 "cells": [
  {
   "cell_type": "code",
   "execution_count": null,
   "id": "4c982e69",
   "metadata": {},
   "outputs": [],
   "source": [
    "%matplotlib inline\n",
    "\n",
    "import warnings\n",
    "import numpy as np\n",
    "import pandas as pd\n",
    "from matplotlib import pyplot as plt\n",
    "import seaborn as sns\n",
    "\n",
    "pd.options.display.max_columns = 0\n",
    "\n",
    "plt.rcParams.update({\n",
    "    \"font.family\": [\"serif\"],\n",
    "    \"font.sans-serif\": [\"Roboto\"],\n",
    "    \"font.size\": 9,\n",
    "    \"axes.labelsize\": 11,\n",
    "    \"axes.titlesize\": 13,\n",
    "    \"xtick.labelsize\": 11,\n",
    "    \"ytick.labelsize\": 11,\n",
    "    \"legend.fontsize\": 11,\n",
    "    'figure.figsize': (15.0, 4.0),\n",
    "    'axes.grid': False,\n",
    "    'axes.spines.left': True,\n",
    "    'axes.spines.right': True,\n",
    "    'axes.spines.top': True,\n",
    "    'axes.spines.bottom': True,\n",
    "})\n",
    "\n",
    "np.set_printoptions(suppress=True)\n",
    "\n",
    "warnings.filterwarnings('ignore')"
   ]
  },
  {
   "cell_type": "code",
   "execution_count": null,
   "id": "c291cb03",
   "metadata": {},
   "outputs": [],
   "source": [
    "dataset = pd.read_csv('full.csv')\n",
    "\n",
    "BETTER_COLUMN_NAMES = {\n",
    "    'id_1': 'id_1',\n",
    "    'id_2': 'id_2',\n",
    "    'Gender': 'gender',\n",
    "    'Customer Type': 'customer_type',\n",
    "    'Age': 'age',\n",
    "    'Type of Travel': 'type_of_travel',\n",
    "    'Class': 'ticket_class',\n",
    "    'Flight Distance': 'flight_distance',\n",
    "    'Inflight wifi service': 'wifi_service',\n",
    "    'Departure/Arrival time convenient': 'departure_arrival_time_convenient',\n",
    "    'Ease of Online booking': 'online_booking',\n",
    "    'Gate location': 'gate_location',\n",
    "    'Food and drink': 'food_and_drink',\n",
    "    'Online boarding': 'online_boarding',\n",
    "    'Seat comfort': 'seat_comfort',\n",
    "    'Inflight entertainment': 'inflight_entertainment',\n",
    "    'On-board service': 'onboard_service',\n",
    "    'Leg room service': 'leg_room',\n",
    "    'Baggage handling': 'baggage_handling',\n",
    "    'Checkin service': 'checkin',\n",
    "    'Inflight service': 'inflight_service',\n",
    "    'Cleanliness': 'cleanliness',\n",
    "    'Departure Delay in Minutes': 'departure_delay',\n",
    "    'Arrival Delay in Minutes': 'arrival_delay',\n",
    "    'satisfaction': 'satisfaction',\n",
    "}\n",
    "\n",
    "dataset.rename(columns=BETTER_COLUMN_NAMES, inplace=True)\n",
    "dataset.set_index('id_1', inplace=True)\n",
    "dataset"
   ]
  },
  {
   "cell_type": "markdown",
   "id": "5ade9d28",
   "metadata": {},
   "source": [
    "## PUNTO 2.1"
   ]
  },
  {
   "cell_type": "code",
   "execution_count": null,
   "id": "59090c65",
   "metadata": {},
   "outputs": [],
   "source": [
    "dataset.satisfaction.value_counts().plot.bar()"
   ]
  },
  {
   "cell_type": "markdown",
   "id": "aa58f691",
   "metadata": {},
   "source": [
    "Columnas a usar:\n",
    "    - customer_type\n",
    "    - ticket_class\n",
    "    - flight_distance\n",
    "    - cleanliness\n",
    "    - arrival_delay"
   ]
  },
  {
   "cell_type": "code",
   "execution_count": null,
   "id": "35ea9d1c",
   "metadata": {},
   "outputs": [],
   "source": [
    "dataset.customer_type.value_counts().plot.bar()"
   ]
  },
  {
   "cell_type": "code",
   "execution_count": null,
   "id": "aa46fc33",
   "metadata": {},
   "outputs": [],
   "source": [
    "plt.bar(x=dataset.satisfaction, y= dataset.cleanliness)"
   ]
  },
  {
   "cell_type": "code",
   "execution_count": null,
   "id": "684f2dba",
   "metadata": {},
   "outputs": [],
   "source": [
    "dataset.ticket_class.value_counts().plot.bar()"
   ]
  },
  {
   "cell_type": "code",
   "execution_count": null,
   "id": "0c7f17ce",
   "metadata": {},
   "outputs": [],
   "source": [
    "dataset.cleanliness.value_counts().plot.bar()"
   ]
  },
  {
   "cell_type": "code",
   "execution_count": null,
   "id": "cafea25f",
   "metadata": {},
   "outputs": [],
   "source": [
    "#dataset.flight_distance.value_counts().plot.bar()"
   ]
  },
  {
   "cell_type": "code",
   "execution_count": null,
   "id": "596454fe",
   "metadata": {},
   "outputs": [],
   "source": [
    "#dataset.arrival_delay.value_counts().plot.bar()"
   ]
  },
  {
   "cell_type": "code",
   "execution_count": null,
   "id": "d9523f0a",
   "metadata": {},
   "outputs": [],
   "source": []
  }
 ],
 "metadata": {
  "kernelspec": {
   "display_name": "Python 3 (ipykernel)",
   "language": "python",
   "name": "python3"
  },
  "language_info": {
   "codemirror_mode": {
    "name": "ipython",
    "version": 3
   },
   "file_extension": ".py",
   "mimetype": "text/x-python",
   "name": "python",
   "nbconvert_exporter": "python",
   "pygments_lexer": "ipython3",
   "version": "3.8.5"
  }
 },
 "nbformat": 4,
 "nbformat_minor": 5
}
