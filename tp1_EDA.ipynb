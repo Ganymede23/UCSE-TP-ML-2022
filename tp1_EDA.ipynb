{
 "cells": [
  {
   "cell_type": "code",
   "execution_count": null,
   "id": "4c982e69",
   "metadata": {
    "scrolled": true
   },
   "outputs": [],
   "source": [
    "%matplotlib inline\n",
    "\n",
    "import warnings\n",
    "import numpy as np\n",
    "import pandas as pd\n",
    "from matplotlib import pyplot as plt\n",
    "import seaborn as sns\n",
    "\n",
    "pd.options.display.max_columns = 0\n",
    "\n",
    "plt.rcParams.update({\n",
    "    \"font.family\": [\"serif\"],\n",
    "    \"font.sans-serif\": [\"Roboto\"],\n",
    "    \"font.size\": 9,\n",
    "    \"axes.labelsize\": 11,\n",
    "    \"axes.titlesize\": 13,\n",
    "    \"xtick.labelsize\": 11,\n",
    "    \"ytick.labelsize\": 11,\n",
    "    \"legend.fontsize\": 11,\n",
    "    'figure.figsize': (15.0, 4.0),\n",
    "    'axes.grid': False,\n",
    "    'axes.spines.left': True,\n",
    "    'axes.spines.right': True,\n",
    "    'axes.spines.top': True,\n",
    "    'axes.spines.bottom': True,\n",
    "})\n",
    "\n",
    "np.set_printoptions(suppress=True)\n",
    "\n",
    "warnings.filterwarnings('ignore')"
   ]
  },
  {
   "cell_type": "code",
   "execution_count": null,
   "id": "c291cb03",
   "metadata": {
    "scrolled": true
   },
   "outputs": [],
   "source": [
    "dataset = pd.read_csv('full.csv')\n",
    "\n",
    "BETTER_COLUMN_NAMES = {\n",
    "    'id_1': 'id_1',\n",
    "    'id_2': 'id_2',\n",
    "    'Gender': 'gender',\n",
    "    'Customer Type': 'customer_type',\n",
    "    'Age': 'age',\n",
    "    'Type of Travel': 'type_of_travel',\n",
    "    'Class': 'ticket_class',\n",
    "    'Flight Distance': 'flight_distance',\n",
    "    'Inflight wifi service': 'wifi_service',\n",
    "    'Departure/Arrival time convenient': 'departure_arrival_time_convenient',\n",
    "    'Ease of Online booking': 'online_booking',\n",
    "    'Gate location': 'gate_location',\n",
    "    'Food and drink': 'food_and_drink',\n",
    "    'Online boarding': 'online_boarding',\n",
    "    'Seat comfort': 'seat_comfort',\n",
    "    'Inflight entertainment': 'inflight_entertainment',\n",
    "    'On-board service': 'onboard_service',\n",
    "    'Leg room service': 'leg_room',\n",
    "    'Baggage handling': 'baggage_handling',\n",
    "    'Checkin service': 'checkin',\n",
    "    'Inflight service': 'inflight_service',\n",
    "    'Cleanliness': 'cleanliness',\n",
    "    'Departure Delay in Minutes': 'departure_delay',\n",
    "    'Arrival Delay in Minutes': 'arrival_delay',\n",
    "    'satisfaction': 'satisfaction',\n",
    "}\n",
    "\n",
    "dataset.rename(columns=BETTER_COLUMN_NAMES, inplace=True)\n",
    "dataset.set_index('id_1', inplace=True)\n",
    "# dataset"
   ]
  },
  {
   "cell_type": "markdown",
   "id": "5ade9d28",
   "metadata": {},
   "source": [
    "## PUNTO 2.1"
   ]
  },
  {
   "cell_type": "code",
   "execution_count": null,
   "id": "59090c65",
   "metadata": {
    "scrolled": false
   },
   "outputs": [],
   "source": [
    "dataset.satisfaction.value_counts().plot.bar()"
   ]
  },
  {
   "cell_type": "markdown",
   "id": "4a43697c",
   "metadata": {},
   "source": [
    "## PUNTO 2.2"
   ]
  },
  {
   "cell_type": "markdown",
   "id": "aa58f691",
   "metadata": {},
   "source": [
    "#### Columnas a usar:\n",
    "    - customer_type\n",
    "    - ticket_class\n",
    "    - flight_distance -> GENDER\n",
    "    - cleanliness\n",
    "    - arrival_delay -> INFLIHT_SERVICE"
   ]
  },
  {
   "cell_type": "markdown",
   "id": "7ca37334",
   "metadata": {},
   "source": [
    "### customer_type"
   ]
  },
  {
   "cell_type": "code",
   "execution_count": null,
   "id": "35ea9d1c",
   "metadata": {
    "scrolled": false
   },
   "outputs": [],
   "source": [
    "dataset.customer_type.value_counts().plot.bar()"
   ]
  },
  {
   "cell_type": "code",
   "execution_count": null,
   "id": "39c2280b",
   "metadata": {},
   "outputs": [],
   "source": [
    "# OlD VERSION:\n",
    "# resultados_customer = customer_group[\"satisfaction\"].value_counts()\n",
    "# resultados_customer.plot.bar()\n",
    "\n",
    "df_loyal_customers = dataset[(dataset.customer_type == \"Loyal Customer\")]\n",
    "df_disloyal_customers = dataset[(dataset.customer_type == \"disloyal Customer\")]\n",
    "\n",
    "unsatisfied_loyal_customers = df_loyal_customers['satisfaction'].value_counts()[\"neutral or dissatisfied\"]\n",
    "unsatisfied_disloyal_customers = df_disloyal_customers['satisfaction'].value_counts()[\"neutral or dissatisfied\"]\n",
    "satisfied_loyal_customers = df_loyal_customers['satisfaction'].value_counts()[\"satisfied\"]\n",
    "satisfied_disloyal_customers = df_disloyal_customers['satisfaction'].value_counts()[\"satisfied\"]\n",
    "\n",
    "satisfied_ppl = [satisfied_loyal_customers, satisfied_disloyal_customers]\n",
    "unsatisfied_ppl = [unsatisfied_loyal_customers, unsatisfied_disloyal_customers]\n",
    "index = ['Loyal Customers', 'Disloyal Customers']\n",
    "df = pd.DataFrame({'Satisfied': satisfied_ppl,\n",
    "                    'Unsatisfied': unsatisfied_ppl}, index=index)\n",
    "ax = df.plot.bar(rot=0, color={\"Satisfied\": \"green\", \"Unsatisfied\": \"red\"})"
   ]
  },
  {
   "cell_type": "markdown",
   "id": "885f0ec0",
   "metadata": {},
   "source": [
    "### cleanliness"
   ]
  },
  {
   "cell_type": "code",
   "execution_count": null,
   "id": "0988e158",
   "metadata": {},
   "outputs": [],
   "source": [
    "dataset.cleanliness.value_counts().plot.bar()"
   ]
  },
  {
   "cell_type": "code",
   "execution_count": null,
   "id": "b283d58e",
   "metadata": {
    "scrolled": false
   },
   "outputs": [],
   "source": [
    "# OlD VERSION:\n",
    "#cleanliness_group = dataset.groupby([\"cleanliness\"])\n",
    "#resultados = cleanliness_group[\"satisfaction\"].value_counts()\n",
    "#resultados.plot.bar()\n",
    "\n",
    "df_cleanliness_1 = dataset[(dataset.cleanliness == 1)]\n",
    "df_cleanliness_2 = dataset[(dataset.cleanliness == 2)]\n",
    "df_cleanliness_3 = dataset[(dataset.cleanliness == 3)]\n",
    "df_cleanliness_4 = dataset[(dataset.cleanliness == 4)]\n",
    "df_cleanliness_5 = dataset[(dataset.cleanliness == 5)]\n",
    "\n",
    "unsatisfied_cleanliness_1 = df_cleanliness_1['satisfaction'].value_counts()[\"neutral or dissatisfied\"]\n",
    "satisfied_cleanliness_1 = df_cleanliness_1['satisfaction'].value_counts()[\"satisfied\"]\n",
    "\n",
    "unsatisfied_cleanliness_2 = df_cleanliness_2['satisfaction'].value_counts()[\"neutral or dissatisfied\"]\n",
    "satisfied_cleanliness_2 = df_cleanliness_2['satisfaction'].value_counts()[\"satisfied\"]\n",
    "\n",
    "unsatisfied_cleanliness_3 = df_cleanliness_3['satisfaction'].value_counts()[\"neutral or dissatisfied\"]\n",
    "satisfied_cleanliness_3 = df_cleanliness_3['satisfaction'].value_counts()[\"satisfied\"]\n",
    "\n",
    "unsatisfied_cleanliness_4 = df_cleanliness_4['satisfaction'].value_counts()[\"neutral or dissatisfied\"]\n",
    "satisfied_cleanliness_4 = df_cleanliness_4['satisfaction'].value_counts()[\"satisfied\"]\n",
    "\n",
    "unsatisfied_cleanliness_5 = df_cleanliness_5['satisfaction'].value_counts()[\"neutral or dissatisfied\"]\n",
    "satisfied_cleanliness_5 = df_cleanliness_5['satisfaction'].value_counts()[\"satisfied\"]\n",
    "\n",
    "\n",
    "satisfied_ppl = [satisfied_cleanliness_1, satisfied_cleanliness_2, satisfied_cleanliness_3, satisfied_cleanliness_4, satisfied_cleanliness_5]\n",
    "unsatisfied_ppl = [unsatisfied_cleanliness_1, unsatisfied_cleanliness_2, unsatisfied_cleanliness_3, unsatisfied_cleanliness_4,unsatisfied_cleanliness_5 ]\n",
    "index = ['Cleanliness 1', 'Cleanliness 2', 'Cleanliness 3', 'Cleanliness 4', 'Cleanliness 5']\n",
    "df = pd.DataFrame({'Satisfied': satisfied_ppl,\n",
    "                    'Unsatisfied': unsatisfied_ppl}, index=index)\n",
    "ax = df.plot.bar(rot=0, color={\"Satisfied\": \"green\", \"Unsatisfied\": \"red\"})"
   ]
  },
  {
   "cell_type": "markdown",
   "id": "cd8a0da5",
   "metadata": {},
   "source": [
    "### ticket_class"
   ]
  },
  {
   "cell_type": "code",
   "execution_count": null,
   "id": "684f2dba",
   "metadata": {
    "scrolled": false
   },
   "outputs": [],
   "source": [
    "dataset.ticket_class.value_counts().plot.bar()"
   ]
  },
  {
   "cell_type": "code",
   "execution_count": null,
   "id": "28fcd81e",
   "metadata": {
    "scrolled": true
   },
   "outputs": [],
   "source": [
    "# OLD CLEANLINESS\n",
    "# cleanliness_group = dataset.groupby([\"cleanliness\"])\n",
    "# resultados = cleanliness_group[\"satisfaction\"].value_counts()\n",
    "# resultados.plot.bar()\n",
    "\n",
    "# OlD VERSION:\n",
    "# resultados_ticket = ticket_group[\"satisfaction\"].value_counts()\n",
    "# resultados_ticket.plot.bar()\n",
    "\n",
    "df_business = dataset[(dataset.ticket_class == \"Business\")]\n",
    "df_eco_plus = dataset[(dataset.ticket_class == \"Eco Plus\")]\n",
    "df_eco = dataset[(dataset.ticket_class == \"Eco\")]\n",
    "\n",
    "unsatisfied_business = df_business['satisfaction'].value_counts()[\"neutral or dissatisfied\"]\n",
    "unsatisfied_eco_plus = df_eco_plus['satisfaction'].value_counts()[\"neutral or dissatisfied\"]\n",
    "unsatisfied_eco = df_eco['satisfaction'].value_counts()[\"neutral or dissatisfied\"]\n",
    "satisfied_business = df_business['satisfaction'].value_counts()[\"satisfied\"]\n",
    "satisfied_eco_plus = df_eco_plus['satisfaction'].value_counts()[\"satisfied\"]\n",
    "satisfied_eco = df_eco['satisfaction'].value_counts()[\"satisfied\"]\n",
    "\n",
    "satisfied_ppl = [satisfied_business, satisfied_eco_plus, satisfied_eco]\n",
    "unsatisfied_ppl = [unsatisfied_business, unsatisfied_eco_plus, unsatisfied_eco]\n",
    "index = ['Business', 'Economy Plus', 'Economy']\n",
    "df = pd.DataFrame({'Satisfied': satisfied_ppl,\n",
    "                    'Unsatisfied': unsatisfied_ppl}, index=index)\n",
    "ax = df.plot.bar(rot=0, color={\"Satisfied\": \"green\", \"Unsatisfied\": \"red\"})"
   ]
  },
  {
   "cell_type": "markdown",
   "id": "9a4572f5",
   "metadata": {},
   "source": [
    "### gender"
   ]
  },
  {
   "cell_type": "code",
   "execution_count": null,
   "id": "cafea25f",
   "metadata": {
    "scrolled": true
   },
   "outputs": [],
   "source": [
    "dataset.gender.value_counts().plot.bar()"
   ]
  },
  {
   "cell_type": "code",
   "execution_count": null,
   "id": "596454fe",
   "metadata": {
    "scrolled": false
   },
   "outputs": [],
   "source": [
    "# OLD GENDER\n",
    "#gender_group = dataset.groupby([\"gender\"])\n",
    "#dataset.gender.value_counts().plot.bar()\n",
    "#resultados_gender = gender_group[\"satisfaction\"].value_counts()\n",
    "#resultados_gender.plot.bar()\n",
    "\n",
    "df_gender_female = dataset[(dataset.gender == \"Female\")]\n",
    "df_gender_masculine = dataset[(dataset.gender == \"Male\")]\n",
    "\n",
    "\n",
    "unsatisfied_gender_female = df_gender_female['satisfaction'].value_counts()[\"neutral or dissatisfied\"]\n",
    "satisfied_gender_female = df_gender_female['satisfaction'].value_counts()[\"satisfied\"]\n",
    "\n",
    "unsatisfied_gender_male = df_gender_masculine['satisfaction'].value_counts()[\"neutral or dissatisfied\"]\n",
    "satisfied_gender_male = df_gender_masculine['satisfaction'].value_counts()[\"satisfied\"]\n",
    "\n",
    "satisfied_ppl = [satisfied_gender_female, satisfied_gender_male]\n",
    "unsatisfied_ppl = [unsatisfied_gender_female, unsatisfied_gender_male]\n",
    "index = ['Female', 'Male']\n",
    "df = pd.DataFrame({'Satisfied': satisfied_ppl,\n",
    "                    'Unsatisfied': unsatisfied_ppl}, index=index)\n",
    "ax = df.plot.bar(rot=0, color={\"Satisfied\": \"green\", \"Unsatisfied\": \"red\"})"
   ]
  },
  {
   "cell_type": "markdown",
   "id": "27b8f89e",
   "metadata": {},
   "source": [
    "### inflight_service"
   ]
  },
  {
   "cell_type": "code",
   "execution_count": null,
   "id": "13323789",
   "metadata": {
    "scrolled": false
   },
   "outputs": [],
   "source": [
    "inflight_service_group = dataset.groupby([\"inflight_service\"])\n",
    "dataset.inflight_service.value_counts().plot.bar()"
   ]
  },
  {
   "cell_type": "code",
   "execution_count": null,
   "id": "010b3b4b",
   "metadata": {
    "scrolled": false
   },
   "outputs": [],
   "source": [
    "resultados_inflight_service = inflight_service_group[\"satisfaction\"].value_counts()\n",
    "resultados_inflight_service.plot.bar()"
   ]
  },
  {
   "cell_type": "code",
   "execution_count": null,
   "id": "5aa76757",
   "metadata": {},
   "outputs": [],
   "source": []
  }
 ],
 "metadata": {
  "kernelspec": {
   "display_name": "Python 3 (ipykernel)",
   "language": "python",
   "name": "python3"
  },
  "language_info": {
   "codemirror_mode": {
    "name": "ipython",
    "version": 3
   },
   "file_extension": ".py",
   "mimetype": "text/x-python",
   "name": "python",
   "nbconvert_exporter": "python",
   "pygments_lexer": "ipython3",
   "version": "3.10.3"
  },
  "widgets": {
   "application/vnd.jupyter.widget-state+json": {
    "state": {},
    "version_major": 2,
    "version_minor": 0
   }
  }
 },
 "nbformat": 4,
 "nbformat_minor": 5
}
