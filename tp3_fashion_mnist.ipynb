{
 "cells": [
  {
   "cell_type": "markdown",
   "metadata": {},
   "source": [
    "# Holy search for Determinism"
   ]
  },
  {
   "cell_type": "code",
   "execution_count": 3,
   "metadata": {},
   "outputs": [
    {
     "name": "stdout",
     "output_type": "stream",
     "text": [
      "WARNING:tensorflow:From C:\\Users\\ignac\\AppData\\Local\\Temp\\ipykernel_10124\\2981508038.py:25: The name tf.keras.backend.set_session is deprecated. Please use tf.compat.v1.keras.backend.set_session instead.\n",
      "\n"
     ]
    }
   ],
   "source": [
    "# Seed value\n",
    "# Apparently you may use different seed values at each stage\n",
    "seed_value = 7\n",
    "\n",
    "# 1. Set the `PYTHONHASHSEED` environment variable at a fixed value\n",
    "import os\n",
    "os.environ['PYTHONHASHSEED']=str(seed_value)\n",
    "\n",
    "# 2. Set the `python` built-in pseudo-random generator at a fixed value\n",
    "import random\n",
    "random.seed(seed_value)\n",
    "\n",
    "# 3. Set the `numpy` pseudo-random generator at a fixed value\n",
    "import numpy as np\n",
    "np.random.seed(seed_value)\n",
    "\n",
    "# 4. Set the `tensorflow` pseudo-random generator at a fixed value\n",
    "import tensorflow as tf\n",
    "tf.compat.v1.set_random_seed(seed_value)\n",
    "\n",
    "# 5. Configure a new global `tensorflow` session\n",
    "from keras import backend as K\n",
    "session_conf = tf.compat.v1.ConfigProto(intra_op_parallelism_threads=1, inter_op_parallelism_threads=1)\n",
    "sess = tf.compat.v1.Session(graph=tf.compat.v1.get_default_graph(), config=session_conf)\n",
    "tf.compat.v1.keras.backend.set_session(sess)"
   ]
  },
  {
   "cell_type": "code",
   "execution_count": 4,
   "metadata": {},
   "outputs": [
    {
     "data": {
      "text/plain": [
       "'\\n\\n# Determinism\\ntf.keras.utils.set_random_seed(7)\\ntf.config.experimental.enable_op_determinism()\\n\\nfrom numpy.random import seed\\nseed(7)\\ntf.random.set_seed(7)\\n'"
      ]
     },
     "execution_count": 4,
     "metadata": {},
     "output_type": "execute_result"
    }
   ],
   "source": [
    "import tensorflow as tf\n",
    "from tensorflow import keras\n",
    "\n",
    "'''\n",
    "\n",
    "# Determinism\n",
    "tf.keras.utils.set_random_seed(7)\n",
    "tf.config.experimental.enable_op_determinism()\n",
    "\n",
    "from numpy.random import seed\n",
    "seed(7)\n",
    "tf.random.set_seed(7)\n",
    "'''"
   ]
  },
  {
   "cell_type": "markdown",
   "metadata": {},
   "source": [
    "# Tests GPU local"
   ]
  },
  {
   "cell_type": "code",
   "execution_count": 5,
   "metadata": {},
   "outputs": [
    {
     "name": "stdout",
     "output_type": "stream",
     "text": [
      "GPUs: 0\n"
     ]
    }
   ],
   "source": [
    "print(\"GPUs:\", len(tf.config.experimental.list_physical_devices('GPU')))"
   ]
  },
  {
   "cell_type": "code",
   "execution_count": 6,
   "metadata": {},
   "outputs": [
    {
     "data": {
      "text/plain": [
       "True"
      ]
     },
     "execution_count": 6,
     "metadata": {},
     "output_type": "execute_result"
    }
   ],
   "source": [
    "tf.test.is_built_with_cuda()"
   ]
  },
  {
   "cell_type": "code",
   "execution_count": 7,
   "metadata": {},
   "outputs": [
    {
     "name": "stdout",
     "output_type": "stream",
     "text": [
      "2.8.0\n"
     ]
    }
   ],
   "source": [
    "print(tf.version.VERSION)"
   ]
  },
  {
   "cell_type": "code",
   "execution_count": 8,
   "metadata": {},
   "outputs": [
    {
     "data": {
      "text/plain": [
       "'3.8.5 (tags/v3.8.5:580fbb0, Jul 20 2020, 15:57:54) [MSC v.1924 64 bit (AMD64)]'"
      ]
     },
     "execution_count": 8,
     "metadata": {},
     "output_type": "execute_result"
    }
   ],
   "source": [
    "import sys\n",
    "sys.version"
   ]
  },
  {
   "cell_type": "code",
   "execution_count": 9,
   "metadata": {},
   "outputs": [
    {
     "data": {
      "text/plain": [
       "'\\nfrom tensorflow.python.client import device_lib\\n\\ndef get_available_devices():\\n    local_device_protos = device_lib.list_local_devices()\\n    return [x.name for x in local_device_protos]\\n\\nprint(get_available_devices())\\n'"
      ]
     },
     "execution_count": 9,
     "metadata": {},
     "output_type": "execute_result"
    }
   ],
   "source": [
    "'''\n",
    "from tensorflow.python.client import device_lib\n",
    "\n",
    "def get_available_devices():\n",
    "    local_device_protos = device_lib.list_local_devices()\n",
    "    return [x.name for x in local_device_protos]\n",
    "\n",
    "print(get_available_devices())\n",
    "'''"
   ]
  },
  {
   "cell_type": "markdown",
   "metadata": {},
   "source": [
    "# TP"
   ]
  },
  {
   "cell_type": "code",
   "execution_count": 10,
   "metadata": {},
   "outputs": [],
   "source": [
    "# de python, para especificar rutas de archivos y directorios\n",
    "from pathlib import Path\n",
    "import math\n",
    "\n",
    "# lib para trabajar con arrays\n",
    "import numpy as np\n",
    "import pandas as pd\n",
    "import sklearn\n",
    "\n",
    "# lib que usamos para mostrar las imágenes\n",
    "import matplotlib.pyplot as plt\n",
    "import seaborn as sns\n",
    "\n",
    "# libs que usamos para construir y entrenar redes neuronales, y que además tiene utilidades para leer sets de \n",
    "# imágenes\n",
    "from tensorflow.keras.models import Sequential\n",
    "from tensorflow.keras.layers import Dense, Input, Dropout, Convolution2D, MaxPooling2D, Flatten, Rescaling\n",
    "from tensorflow.keras.preprocessing.image import load_img, img_to_array, ImageDataGenerator\n",
    "\n",
    "# libs que usamos para tareas generales de machine learning. En este caso, métricas\n",
    "from sklearn.metrics import accuracy_score, confusion_matrix\n",
    "\n",
    "# configuración para que las imágenes se vean dentro del notebook\n",
    "%matplotlib inline"
   ]
  },
  {
   "cell_type": "code",
   "execution_count": 11,
   "metadata": {},
   "outputs": [],
   "source": [
    "from tensorflow.keras.datasets import fashion_mnist\n",
    "'''\n",
    "(X_train, Y_train), (X_test, Y_test) = fashion_mnist.load_data()\n",
    "(X_train, Y_train) = train \n",
    "(X_test, Y_test) = test\n",
    "'''\n",
    "train, test = fashion_mnist.load_data()\n",
    "(X_train, Y_train) = train \n",
    "(X_test, Y_test) = test"
   ]
  },
  {
   "cell_type": "code",
   "execution_count": 12,
   "metadata": {},
   "outputs": [],
   "source": [
    "# CONSTANTES\n",
    "\n",
    "LABELS = np.unique(Y_train).tolist()\n",
    "LABELS_TEXT = ['T-shirt/top','Trouser','Pullover','Dress','Coat','Sandal','Shirt','Sneaker','Bag','Ankle boot']\n",
    "INPUTS = 28*28\n",
    "OUTPUTS = len(LABELS)"
   ]
  },
  {
   "cell_type": "markdown",
   "metadata": {},
   "source": [
    "# EDA\n",
    "\n",
    "El dataset se divide en un set de train con 60.000 ejemplos, y un set de test con otros 10.000. Cada ejemplo consta de una imagen en escala de grises de 28x28 pixeles (784 en total), asociado a una etiqueta de 10 clases.\n",
    "Cada pixel es representado por un solo valor, indicando el nivel de brillo u obscuridad en él. Estos valores van entre 0 y 255.\n",
    "\n",
    "### Etiquetas\n",
    "- 0 - T-shirt/top\n",
    "- 1 - Trouser\n",
    "- 2 - Pullover\n",
    "- 3 - Dress\n",
    "- 4 - Coat\n",
    "- 5 - Sandal\n",
    "- 6 - Shirt\n",
    "- 7 - Sneaker\n",
    "- 8 - Bag\n",
    "- 9 - Ankle boot\n",
    "\n",
    "Las dimensiones de las imágenes pueden apreciarse al hacer un `.shape` de los datasets:"
   ]
  },
  {
   "cell_type": "code",
   "execution_count": 13,
   "metadata": {},
   "outputs": [
    {
     "name": "stdout",
     "output_type": "stream",
     "text": [
      "Train: (60000, 28, 28)\n",
      "Test: (10000, 28, 28)\n"
     ]
    }
   ],
   "source": [
    "print('Train:', X_train.shape)\n",
    "print('Test:', X_test.shape)"
   ]
  },
  {
   "cell_type": "code",
   "execution_count": 14,
   "metadata": {},
   "outputs": [
    {
     "data": {
      "image/png": "[encoded data removed]",
      "text/plain": [
       "<Figure size 324x432 with 9 Axes>"
      ]
     },
     "metadata": {
      "needs_background": "light"
     },
     "output_type": "display_data"
    }
   ],
   "source": [
    "def sample_images(dataset): \n",
    "    # specify the number of rows and columns you want to see\n",
    "    num_row = 3\n",
    "    num_col = 3\n",
    "\n",
    "    # get a segment of the dataset\n",
    "    num = num_row*num_col\n",
    "    if dataset == train:\n",
    "        images, labels = X_train[:num], Y_train[:num]\n",
    "    else: # Test dataset\n",
    "        images, labels = X_test[:num], Y_test[:num]\n",
    "\n",
    "    # plot images\n",
    "    fig, axes = plt.subplots(num_row, num_col, figsize=(1.5*num_col,2*num_row))\n",
    "    for i in range(9):\n",
    "        ax = plt.subplot(3, 3, i + 1)\n",
    "        plt.imshow(images[i], cmap='gray')\n",
    "        plt.title(labels[i])\n",
    "        plt.axis(\"off\")\n",
    "    plt.tight_layout()\n",
    "    plt.show()\n",
    "\n",
    "sample_images(train)"
   ]
  },
  {
   "cell_type": "code",
   "execution_count": 15,
   "metadata": {},
   "outputs": [
    {
     "data": {
      "image/png": "[encoded data removed]",
      "text/plain": [
       "<Figure size 720x360 with 2 Axes>"
      ]
     },
     "metadata": {
      "needs_background": "light"
     },
     "output_type": "display_data"
    }
   ],
   "source": [
    "df_ytrain = pd.DataFrame(data=Y_train)\n",
    "df_ytest = pd.DataFrame(data=Y_test)\n",
    "\n",
    "fig, (ax1, ax2) = plt.subplots(1, 2, sharey=True, figsize=(10, 5))\n",
    "fig.suptitle('Distribución de la variable target')\n",
    "ax1.bar([0,1,2,3,4,5,6,7,8,9],df_ytrain.value_counts())\n",
    "ax2.bar([0,1,2,3,4,5,6,7,8,9],df_ytest.value_counts())\n",
    "ax1.set_xticks([0,1,2,3,4,5,6,7,8,9])\n",
    "ax2.set_xticks([0,1,2,3,4,5,6,7,8,9])\n",
    "ax1.title.set_text('Train')\n",
    "ax2.title.set_text('Test')"
   ]
  },
  {
   "cell_type": "markdown",
   "metadata": {},
   "source": [
    "La variable a predecir tiene una **distribución uniforme** en todo ambos datasets."
   ]
  },
  {
   "cell_type": "code",
   "execution_count": 16,
   "metadata": {},
   "outputs": [],
   "source": [
    "# Escalado de valores a un rango 0-1\n",
    "\n",
    "#X_train = X_train.astype('float32')\n",
    "#X_test = X_test.astype('float32')\n",
    "#X_train /= 255\n",
    "#X_test /= 255"
   ]
  },
  {
   "cell_type": "markdown",
   "metadata": {},
   "source": [
    "Activation functions\n",
    "    https://machinelearningmastery.com/choose-an-activation-function-for-deep-learning/\n",
    "\n",
    "Loss functions\n",
    "    https://machinelearningmastery.com/how-to-choose-loss-functions-when-training-deep-learning-neural-networks/\n",
    "\n",
    "Neurons and layers\n",
    "    https://machinelearningmastery.com/how-to-configure-the-number-of-layers-and-nodes-in-a-neural-network/\n",
    "    https://stats.stackexchange.com/questions/181/how-to-choose-the-number-of-hidden-layers-and-nodes-in-a-feedforward-neural-netw\n",
    "\n",
    "https://www.hindawi.com/journals/mpe/2013/425740/\n",
    "https://peerj.com/articles/cs-724/\n",
    "\n",
    "    The number of hidden neurons should be between the size of the input layer and the size of the output layer.\n",
    "    The number of hidden neurons should be 2/3 the size of the input layer, plus the size of the output layer.\n",
    "    The number of hidden neurons should be less than twice the size of the input layer.\n",
    "\n",
    "\n",
    "> In modern neural networks, the default recommendation is to use the rectified linear unit or ReLU …\n",
    "\n",
    "— Page 174, Deep Learning, 2016."
   ]
  },
  {
   "cell_type": "markdown",
   "metadata": {},
   "source": [
    "# Funciones"
   ]
  },
  {
   "cell_type": "code",
   "execution_count": 25,
   "metadata": {},
   "outputs": [],
   "source": [
    "EPOCHS = 30\n",
    "BATCH_SIZE = 256\n",
    "\n",
    "import matplotlib.ticker as ticker\n",
    "\n",
    "# Fit model\n",
    "def fit_model(model, epochs=EPOCHS, batch_size=BATCH_SIZE, plot_model=True):\n",
    "    history = model.fit(\n",
    "        X_train,\n",
    "        Y_train,\n",
    "        epochs = epochs,\n",
    "        batch_size = batch_size,\n",
    "        validation_data=(X_test, Y_test),\n",
    "    )\n",
    "    \n",
    "    return history\n",
    "\n",
    "# Plot train and validation accuracy of up to three models\n",
    "def plot_model(model_1, model_2=None, model_3=None, loss=False, title='', subtitle_1='', subtitle_2='', subtitle_3='', epochs=EPOCHS):\n",
    "    if loss:\n",
    "        ylabel = 'Loss'\n",
    "        train_metric = 'loss'\n",
    "        validation_metric = 'val_loss'\n",
    "    else:\n",
    "        ylabel = 'Accuracy'\n",
    "        train_metric = 'accuracy'\n",
    "        validation_metric = 'val_accuracy'\n",
    "\n",
    "    if model_2 is None and model_3 is None:\n",
    "        plt.figure(figsize=(7, 5)) \n",
    "        plt.title(title)\n",
    "        plt.plot(model_1.history[train_metric], label='train')\n",
    "        plt.plot(model_1.history[validation_metric], label='validation')\n",
    "        if epochs <= 20:\n",
    "            plt.xticks(np.arange(epochs), np.arange(1, epochs+1))\n",
    "        else:\n",
    "            original_ticks_list = np.arange(epochs)\n",
    "            # Just 3 ticks (min, half, max)\n",
    "            new_ticks_list = [min(original_ticks_list), original_ticks_list[math.floor(len(original_ticks_list)/2)], max(original_ticks_list)]\n",
    "            new_ticks_label_list = [min(original_ticks_list+1), original_ticks_list[math.floor(len(original_ticks_list)/2)], max(original_ticks_list)+1]\n",
    "            plt.xticks(new_ticks_list, new_ticks_label_list)\n",
    "       \n",
    "        plt.ylabel(ylabel)\n",
    "        plt.xlabel('Epoch')\n",
    "        plt.legend(loc='best')\n",
    "        plt.grid()\n",
    "        plt.show()\n",
    "        \n",
    "    else:\n",
    "        if model_3 is None:\n",
    "            fig, (ax1, ax2) = plt.subplots(1, 2, sharey=True, figsize=(15.3, 5))\n",
    "            fig.suptitle(title)\n",
    "            ax1.title.set_text(subtitle_1)\n",
    "            ax2.title.set_text(subtitle_2)\n",
    "            ax1.plot(model_1.history[train_metric], label='train')\n",
    "            ax2.plot(model_2.history[train_metric], label='train')\n",
    "            ax1.plot(model_1.history[validation_metric], label='validation')\n",
    "            ax2.plot(model_2.history[validation_metric], label='validation')\n",
    "\n",
    "            axes_list = [ax1, ax2]\n",
    "\n",
    "        else:\n",
    "            fig, (ax1, ax2, ax3) = plt.subplots(1, 3, sharey=True, figsize=(24, 5))\n",
    "            fig.suptitle(title)\n",
    "            ax1.title.set_text(subtitle_1)\n",
    "            ax2.title.set_text(subtitle_2)\n",
    "            ax3.title.set_text(subtitle_3)\n",
    "            ax1.plot(model_1.history[train_metric], label='train')\n",
    "            ax2.plot(model_2.history[train_metric], label='train')\n",
    "            ax3.plot(model_3.history[train_metric], label='train')\n",
    "            ax1.plot(model_1.history[validation_metric], label='validation')\n",
    "            ax2.plot(model_2.history[validation_metric], label='validation')\n",
    "            ax3.plot(model_3.history[validation_metric], label='validation')\n",
    "\n",
    "            ax2.tick_params(\n",
    "            axis='y',\n",
    "            which='both',   \n",
    "            left=False\n",
    "            )  \n",
    "\n",
    "            axes_list = [ax1, ax2, ax3]\n",
    "\n",
    "        for ax in axes_list:\n",
    "            if epochs <= 20:\n",
    "                ax.set_xticks(np.arange(epochs), np.arange(1, epochs+1))\n",
    "            else:\n",
    "                original_ticks_list = np.arange(epochs)\n",
    "                # Just 3 ticks (min, half, max)\n",
    "                new_ticks_list = [min(original_ticks_list), original_ticks_list[math.floor(len(original_ticks_list)/2)], max(original_ticks_list)]\n",
    "                new_ticks_label_list = [min(original_ticks_list+1), original_ticks_list[math.floor(len(original_ticks_list)/2)], max(original_ticks_list)+1]\n",
    "                ax.set_xticks(new_ticks_list, new_ticks_label_list)\n",
    "            \n",
    "            ax.set_xlabel('Epoch')\n",
    "            ax.set_ylabel(ylabel)\n",
    "            ax.legend(loc='best')\n",
    "            ax.grid()\n",
    "\n",
    "            ax.tick_params(\n",
    "                axis='y',\n",
    "                which='both',   \n",
    "                right=False,\n",
    "                labelright=False,\n",
    "                left=True,\n",
    "                labelleft=True,\n",
    "            )\n",
    "\n",
    "# Plot train and validation accuracy of up to three models\n",
    "def plot_cm(model_1, model_2=None, model_3=None, dataset=train, title='', subtitle_1='', subtitle_2='', subtitle_3=''):\n",
    "    X_train, Y_train = dataset\n",
    "    labels = Y_train #Rename just for the sake of understanding\n",
    "\n",
    "    if model_2 is None and model_3 is None:\n",
    "        predictions = np.argmax(model_1.predict(X_train), axis=-1)\n",
    "        \n",
    "        print(' - Accuracy:', accuracy_score(labels, predictions))\n",
    "\n",
    "        fig, ax = plt.subplots(figsize=(7,5))\n",
    "        ax = sns.heatmap(confusion_matrix(labels, predictions), cmap='Blues', annot=True, fmt='.0f', cbar=True, xticklabels=LABELS_TEXT, yticklabels=LABELS_TEXT)\n",
    "\n",
    "        plt.title(title)\n",
    "        plt.xlabel('Predicted class') \n",
    "        plt.ylabel('True class') \n",
    "        \n",
    "    else:\n",
    "        if model_3 is None:\n",
    "            predictions_model_1 = np.argmax(model_1.predict(X_train), axis=-1)\n",
    "            predictions_model_2 = np.argmax(model_2.predict(X_train), axis=-1)\n",
    "\n",
    "            print(' -', subtitle_1,'Accuracy:', accuracy_score(labels, predictions_model_1))\n",
    "            print(' -', subtitle_2,'Accuracy:', accuracy_score(labels, predictions_model_2))\n",
    "\n",
    "            fig, (ax1, ax2) = plt.subplots(1, 2, figsize=(15.3,5))\n",
    "            fig.suptitle(title)\n",
    "            ax1.title.set_text(subtitle_1)\n",
    "            ax2.title.set_text(subtitle_2)\n",
    "            axes_list = [ax1, ax2]\n",
    "            g1 = sns.heatmap(confusion_matrix(labels, predictions_model_1), cmap='Blues', annot=True, fmt='.0f', cbar=True, xticklabels=LABELS_TEXT, yticklabels=LABELS_TEXT, ax=ax1)\n",
    "            g2 = sns.heatmap(confusion_matrix(labels, predictions_model_2), cmap='Blues', annot=True, fmt='.0f', cbar=True, xticklabels=LABELS_TEXT, yticklabels=LABELS_TEXT, ax=ax2)\n",
    "\n",
    "        else:\n",
    "            predictions_model_1 = np.argmax(model_1.predict(X_train), axis=-1)\n",
    "            predictions_model_2 = np.argmax(model_2.predict(X_train), axis=-1)\n",
    "            predictions_model_3 = np.argmax(model_3.predict(X_train), axis=-1)\n",
    "\n",
    "            print(' -', subtitle_1,'Accuracy:', accuracy_score(labels, predictions_model_1))\n",
    "            print(' -', subtitle_2,'Accuracy:', accuracy_score(labels, predictions_model_2))\n",
    "            print(' -', subtitle_3,'Accuracy:', accuracy_score(labels, predictions_model_3))\n",
    "\n",
    "            fig, (ax1, ax2, ax3) = plt.subplots(1, 3, figsize=(24,5))\n",
    "            fig.suptitle(title)\n",
    "            ax1.title.set_text(subtitle_1)\n",
    "            ax2.title.set_text(subtitle_2)\n",
    "            ax3.title.set_text(subtitle_3)\n",
    "            axes_list = [ax1, ax2, ax3]\n",
    "            g1 = sns.heatmap(confusion_matrix(labels, predictions_model_1), cmap='Blues', annot=True, fmt='.0f', cbar=True, xticklabels=LABELS_TEXT, yticklabels=LABELS_TEXT, ax=ax1)\n",
    "            g2 = sns.heatmap(confusion_matrix(labels, predictions_model_2), cmap='Blues', annot=True, fmt='.0f', cbar=True, xticklabels=LABELS_TEXT, yticklabels=LABELS_TEXT, ax=ax2)\n",
    "            g3 = sns.heatmap(confusion_matrix(labels, predictions_model_3), cmap='Blues', annot=True, fmt='.0f', cbar=True, xticklabels=LABELS_TEXT, yticklabels=LABELS_TEXT, ax=ax3)\n",
    "\n",
    "        for ax in axes_list:\n",
    "            ax.set_xlabel('Predicted class')\n",
    "            ax.set_ylabel('True class')\n",
    "\n",
    "    plt.tight_layout()\n",
    "    plt.show()"
   ]
  },
  {
   "attachments": {
    "imagen-2.png": {
     "image/png": "[encoded data removed]"
    },
    "imagen-3.png": {
     "image/png": "[encoded data removed]"
    },
    "imagen.png": {
     "image/png": "[encoded data removed]"
    }
   },
   "cell_type": "markdown",
   "metadata": {},
   "source": [
    "# Tests académicos\n",
    "\n",
    "## Masters (1993)\n",
    "\n",
    "Masters argumenta en su libro *Practical Neural Network Recipes in C++* que no hay razones teóricas para utilizar más de dos capas ocultas en una red neuronal, como así tampoco razones prácticas. A su vez, propone utilizar la regla de la pirámide geométrica para determinar el número de neuronas ocultas, la cual establece que el número de neuronas para cada capa oculta formará una pirámide, donde el número de neuronas sigue disminuyendo de entrada a salida.\n",
    "\n",
    "Para una red neuronal con una sola capa oculta, la cantidad de neuronas se calcula de la siguiente manera:\n",
    "\n",
    "![imagen.png](attachment:imagen.png)\n",
    "\n",
    "Donde:\n",
    "- n es la cantidad de inputs\n",
    "- m es la cantidad de outputs\n",
    "\n",
    "Por otro lado, la cantidad de neuronas para una red con dos capas ocultas se calcula así:\n",
    "\n",
    "![imagen-2.png](attachment:imagen-2.png)\n",
    "\n",
    "Si se quisiera utilizar este mismo principio para una red con tres capas ocultas, a cantidad de neuronas en cada una de ellas se calcula de esta manera:\n",
    "\n",
    "![imagen-3.png](attachment:imagen-3.png)"
   ]
  },
  {
   "cell_type": "code",
   "execution_count": null,
   "metadata": {},
   "outputs": [],
   "source": [
    "Nh = pow(INPUTS*OUTPUTS, 1/2)\n",
    "\n",
    "mlp_masters_1l = Sequential([\n",
    "    Rescaling(1/255, input_shape=(28,28,1)),\n",
    "    Flatten(),\n",
    "    Dense(Nh, activation='sigmoid'),\n",
    "    Dense(len(LABELS), activation='softmax'),\n",
    "])\n",
    "\n",
    "mlp_masters_1l.compile(\n",
    "    optimizer='adam',\n",
    "    loss='sparse_categorical_crossentropy',\n",
    "    metrics=['accuracy',],\n",
    ")\n",
    "\n",
    "print('Hidden neurons:', math.trunc(Nh))\n",
    "print()\n",
    "\n",
    "mlp_masters_1l.summary()"
   ]
  },
  {
   "cell_type": "code",
   "execution_count": null,
   "metadata": {},
   "outputs": [],
   "source": [
    "mlp_masters_1l_fit = fit_model(mlp_masters_1l)"
   ]
  },
  {
   "cell_type": "code",
   "execution_count": null,
   "metadata": {},
   "outputs": [],
   "source": [
    "#r = (n/m)^(1/3)\n",
    "r = pow(INPUTS/OUTPUTS, 1/3)    # = 4.279\n",
    "                                \n",
    "Nh1 = OUTPUTS*pow(r,2)          # = 183.179\n",
    "Nh2 = OUTPUTS*r                 # = 42.799\n",
    "                            \n",
    "mlp_masters_2l = Sequential([\n",
    "    Rescaling(1/255, input_shape=(28,28,1)),\n",
    "    Flatten(),\n",
    "    Dense(Nh1, activation='sigmoid'),\n",
    "    Dense(Nh2, activation='sigmoid'),\n",
    "    Dense(len(LABELS), activation='softmax'),\n",
    "])\n",
    "\n",
    "mlp_masters_2l.compile(\n",
    "    optimizer='adam',\n",
    "    loss='sparse_categorical_crossentropy',\n",
    "    metrics=['accuracy',],\n",
    ")\n",
    "\n",
    "print('Hidden neurons:')\n",
    "print('    - 1st Layer:', math.trunc(Nh1))\n",
    "print('    - 2nd Layer:', math.trunc(Nh2))\n",
    "print()\n",
    "\n",
    "mlp_masters_2l.summary()"
   ]
  },
  {
   "cell_type": "code",
   "execution_count": null,
   "metadata": {},
   "outputs": [],
   "source": [
    "mlp_masters_2l_fit = fit_model(mlp_masters_2l)"
   ]
  },
  {
   "cell_type": "code",
   "execution_count": null,
   "metadata": {},
   "outputs": [],
   "source": [
    "#r = (n/m)^(1/3)\n",
    "r = pow(INPUTS/OUTPUTS, 1/3)    # = 4.279\n",
    "                                \n",
    "Nh1 = OUTPUTS*pow(r,3)          # = 783.478\n",
    "Nh2 = OUTPUTS*pow(r,2)          # = 183.179\n",
    "Nh3 = OUTPUTS*r                 # = 42.799\n",
    "                            \n",
    "mlp_masters_3l = Sequential([\n",
    "    Rescaling(1/255, input_shape=(28,28,1)),\n",
    "    Flatten(),\n",
    "    Dense(Nh1, activation='sigmoid'),\n",
    "    Dense(Nh2, activation='sigmoid'),\n",
    "    Dense(Nh3, activation='sigmoid'),\n",
    "    Dense(len(LABELS), activation='softmax'),\n",
    "])\n",
    "\n",
    "mlp_masters_3l.compile(\n",
    "    optimizer='adam',\n",
    "    loss='sparse_categorical_crossentropy',\n",
    "    metrics=['accuracy',],\n",
    ")\n",
    "\n",
    "print('Hidden neurons:')\n",
    "print('    - 1st Layer:', math.trunc(Nh1))\n",
    "print('    - 2nd Layer:', math.trunc(Nh2))\n",
    "print('    - 3rd Layer:', math.trunc(Nh3))\n",
    "print()\n",
    "\n",
    "mlp_masters_3l.summary()"
   ]
  },
  {
   "cell_type": "code",
   "execution_count": null,
   "metadata": {},
   "outputs": [],
   "source": [
    "mlp_masters_3l_fit = fit_model(mlp_masters_3l)"
   ]
  },
  {
   "cell_type": "code",
   "execution_count": null,
   "metadata": {},
   "outputs": [],
   "source": [
    "# Comparison between all three models based on Masters idea\n",
    "plot_model(model_1=mlp_masters_1l_fit, model_2=mlp_masters_2l_fit, model_3=mlp_masters_3l_fit, \n",
    "    title=\"Masters's proposed MLP models\", subtitle_1='1 Hidden Layer MLP', subtitle_2='2 Hidden Layers MLP', subtitle_3='3 Hidden Layers MLP')"
   ]
  },
  {
   "cell_type": "code",
   "execution_count": null,
   "metadata": {},
   "outputs": [],
   "source": [
    "plot_cm(mlp_masters_1l, mlp_masters_2l, mlp_masters_3l, \n",
    "    title=\"Masters's proposed MLP models\", subtitle_1='1 Hidden Layer MLP', subtitle_2='2 Hidden Layers MLP', subtitle_3='3 Hidden Layers MLP')"
   ]
  },
  {
   "cell_type": "markdown",
   "metadata": {},
   "source": [
    "## Tamura and Tateishi (1997)\n",
    "Tamura and Tateishi desarrollaron un método basado en el Criterio de Información de Akaike. La cantidad de neuronas en una red neuronal tres capas es N-1, y en una red neuronal de cuatro capas, es (N/2)+3, donde N es resta entre la cantidad de inputs y outputs.\n",
    "\n",
    "Tamura and Tateishi developed a method to fix the number of hidden neuron. The number of hidden neurons in three layer neural network is N − 1 and four-layer neural network is N/2 + 3 where N is the input-target relation."
   ]
  },
  {
   "cell_type": "code",
   "execution_count": null,
   "metadata": {},
   "outputs": [],
   "source": [
    "N = INPUTS-OUTPUTS              # 774\n",
    "Nh = N-1                        # 773\n",
    "\n",
    "mlp_tamura_3l = Sequential([\n",
    "    Rescaling(1/255, input_shape=(28,28,1)),\n",
    "    Flatten(),\n",
    "    Dense(Nh, activation='sigmoid'),\n",
    "    Dense(Nh, activation='sigmoid'),\n",
    "    Dense(Nh, activation='sigmoid'),\n",
    "    Dense(len(LABELS), activation='softmax'),\n",
    "])\n",
    "\n",
    "mlp_tamura_3l.compile(\n",
    "    optimizer='adam',\n",
    "    loss='sparse_categorical_crossentropy',\n",
    "    metrics=['accuracy',],\n",
    ")\n",
    "\n",
    "print('Hidden neurons:', math.trunc(Nh), 'on each of the 3 layers')\n",
    "print()\n",
    "\n",
    "mlp_tamura_3l.summary()"
   ]
  },
  {
   "cell_type": "code",
   "execution_count": null,
   "metadata": {},
   "outputs": [],
   "source": [
    "mlp_tamura_3l_fit = fit_model(mlp_tamura_3l)"
   ]
  },
  {
   "cell_type": "code",
   "execution_count": null,
   "metadata": {},
   "outputs": [],
   "source": [
    "N = INPUTS-OUTPUTS              # 774\n",
    "Nh = (N/2)+3                    # 390\n",
    "\n",
    "mlp_tamura_4l = Sequential([\n",
    "    Rescaling(1/255, input_shape=(28,28,1)),\n",
    "    Flatten(),\n",
    "    Dense(Nh, activation='sigmoid'),\n",
    "    Dense(Nh, activation='sigmoid'),\n",
    "    Dense(Nh, activation='sigmoid'),\n",
    "    Dense(Nh, activation='sigmoid'),\n",
    "    Dense(len(LABELS), activation='softmax'),\n",
    "])\n",
    "\n",
    "mlp_tamura_4l.compile(\n",
    "    optimizer='adam',\n",
    "    loss='sparse_categorical_crossentropy',\n",
    "    metrics=['accuracy',],\n",
    ")\n",
    "\n",
    "print('Hidden neurons:', math.trunc(Nh), 'on each of the 4 layers')\n",
    "print()\n",
    "\n",
    "mlp_tamura_4l.summary()"
   ]
  },
  {
   "cell_type": "code",
   "execution_count": null,
   "metadata": {},
   "outputs": [],
   "source": [
    "mlp_tamura_4l_fit = fit_model(mlp_tamura_4l)"
   ]
  },
  {
   "cell_type": "code",
   "execution_count": null,
   "metadata": {},
   "outputs": [],
   "source": [
    "# Comparison between two models based on Tamura and Tateishi's model\n",
    "plot_model(model_1=mlp_tamura_3l_fit, model_2=mlp_tamura_4l_fit, \n",
    "    title=\"Tamura and Tateishi's proposed MLP models\", subtitle_1='3 Hidden Layers MLP', subtitle_2='4 Hidden Layers MLP')"
   ]
  },
  {
   "cell_type": "code",
   "execution_count": null,
   "metadata": {},
   "outputs": [],
   "source": [
    "plot_cm(model_1=mlp_tamura_3l, model_2=mlp_tamura_4l, \n",
    "    title=\"Tamura and Tateishi's proposed MLP models\", subtitle_1='3 Hidden Layers MLP', subtitle_2='4 Hidden Layers MLP')"
   ]
  },
  {
   "cell_type": "markdown",
   "metadata": {},
   "source": [
    "# MLP Experimentation\n",
    "\n",
    "Para experimentar con diversos aspectos de redes neuronales MLP vamos a buscar variar no solo su arquitectura -en términos de cantidad de capas ocultas y neuronas- sino también con la cantidad de Epochs, tamaño del Batch Size y learning rate utilizados."
   ]
  },
  {
   "cell_type": "markdown",
   "metadata": {},
   "source": [
    "## Epochs"
   ]
  },
  {
   "cell_type": "code",
   "execution_count": null,
   "metadata": {},
   "outputs": [],
   "source": [
    "mlp_3l_100 = Sequential([\n",
    "    Rescaling(1/255, input_shape=(28,28,1)),\n",
    "    Flatten(),\n",
    "    Dense(100, activation='relu'),\n",
    "    Dense(100, activation='relu'),\n",
    "    Dense(100, activation='relu'),\n",
    "    Dense(OUTPUTS, activation='softmax'),\n",
    "])\n",
    "\n",
    "mlp_3l_100.compile(\n",
    "    optimizer='adam',\n",
    "    loss='sparse_categorical_crossentropy',\n",
    "    metrics=['accuracy',],\n",
    ")\n",
    "\n",
    "mlp_3l_100.summary()"
   ]
  },
  {
   "cell_type": "code",
   "execution_count": null,
   "metadata": {},
   "outputs": [],
   "source": [
    "mlp_3l_100_e10 = fit_model(mlp_3l_100, epochs=10)\n",
    "mlp_3l_100_e20 = fit_model(mlp_3l_100, epochs=20)\n",
    "mlp_3l_100_e30 = fit_model(mlp_3l_100, epochs=30)"
   ]
  },
  {
   "cell_type": "code",
   "execution_count": null,
   "metadata": {},
   "outputs": [],
   "source": [
    "plot_model(model_1=mlp_3l_100_e10, model_2=mlp_3l_100_e20, model_3=mlp_3l_100_e30, epochs=30, \n",
    "    title='Accuracy over train epochs', subtitle_1='Epochs=10', subtitle_2='Epochs=20', subtitle_3='Epochs=30')"
   ]
  },
  {
   "cell_type": "code",
   "execution_count": null,
   "metadata": {},
   "outputs": [],
   "source": [
    "plot_model(model_1=mlp_3l_100_e10, model_2=mlp_3l_100_e20, model_3=mlp_3l_100_e30, epochs=30, loss=True,\n",
    "    title='Accuracy over train epochs', subtitle_1='Epochs=10', subtitle_2='Epochs=20', subtitle_3='Epochs=30')"
   ]
  },
  {
   "cell_type": "markdown",
   "metadata": {},
   "source": [
    "## Batch Size"
   ]
  },
  {
   "cell_type": "code",
   "execution_count": null,
   "metadata": {},
   "outputs": [],
   "source": [
    "mlp_3l_100 = Sequential([\n",
    "    Rescaling(1/255, input_shape=(28,28,1)),\n",
    "    Flatten(),\n",
    "    Dense(100, activation='relu'),\n",
    "    Dense(100, activation='relu'),\n",
    "    Dense(100, activation='relu'),\n",
    "    Dense(OUTPUTS, activation='softmax'),\n",
    "])\n",
    "\n",
    "mlp_3l_100.compile(\n",
    "    optimizer='adam',\n",
    "    loss='sparse_categorical_crossentropy',\n",
    "    metrics=['accuracy',],\n",
    ")\n",
    "\n",
    "mlp_3l_100.summary()\n"
   ]
  },
  {
   "cell_type": "code",
   "execution_count": null,
   "metadata": {},
   "outputs": [],
   "source": [
    "mlp_3l_100_e30_b64 = fit_model(mlp_3l_100, epochs=3, batch_size=64)\n",
    "mlp_3l_100_e30_b256 = fit_model(mlp_3l_100, epochs=3, batch_size=256)\n",
    "mlp_3l_100_e30_b1024 = fit_model(mlp_3l_100, epochs=3, batch_size=1024)"
   ]
  },
  {
   "cell_type": "code",
   "execution_count": null,
   "metadata": {},
   "outputs": [],
   "source": [
    "plot_model(model_1=mlp_3l_100_e30_b64, model_2=mlp_3l_100_e30_b256, model_3=mlp_3l_100_e30_b1024, epochs=3, \n",
    "    title='Accuracy over train epochs', subtitle_1='Epochs=30, Batch Size=64', subtitle_2='Epochs=30, Batch Size=256', subtitle_3='Epochs=30, Batch Size=1024')"
   ]
  },
  {
   "cell_type": "code",
   "execution_count": null,
   "metadata": {},
   "outputs": [],
   "source": [
    "plot_model(model_1=mlp_3l_100_e30_b64, model_2=mlp_3l_100_e30_b256, model_3=mlp_3l_100_e30_b1024, loss=True, epochs=30, \n",
    "    title='Loss over train epochs', subtitle_1='Epochs=30, Batch Size=64', subtitle_2='Epochs=30, Batch Size=256', subtitle_3='Epochs=30, Batch Size=1024')"
   ]
  },
  {
   "cell_type": "markdown",
   "metadata": {},
   "source": [
    "## Learning Rate\n",
    "\n",
    "https://www.tensorflow.org/api_docs/python/tf/keras/optimizers/Adam"
   ]
  },
  {
   "cell_type": "code",
   "execution_count": 22,
   "metadata": {},
   "outputs": [
    {
     "name": "stdout",
     "output_type": "stream",
     "text": [
      "Model: \"sequential_4\"\n",
      "_________________________________________________________________\n",
      " Layer (type)                Output Shape              Param #   \n",
      "=================================================================\n",
      " rescaling_4 (Rescaling)     (None, 28, 28, 1)         0         \n",
      "                                                                 \n",
      " flatten_4 (Flatten)         (None, 784)               0         \n",
      "                                                                 \n",
      " dense_16 (Dense)            (None, 100)               78500     \n",
      "                                                                 \n",
      " dense_17 (Dense)            (None, 100)               10100     \n",
      "                                                                 \n",
      " dense_18 (Dense)            (None, 100)               10100     \n",
      "                                                                 \n",
      " dense_19 (Dense)            (None, 10)                1010      \n",
      "                                                                 \n",
      "=================================================================\n",
      "Total params: 99,710\n",
      "Trainable params: 99,710\n",
      "Non-trainable params: 0\n",
      "_________________________________________________________________\n"
     ]
    }
   ],
   "source": [
    "mlp_3l_100_lr0001 = Sequential([\n",
    "    Rescaling(1/255, input_shape=(28,28,1)),\n",
    "    Flatten(),\n",
    "    Dense(100, activation='relu'),\n",
    "    Dense(100, activation='relu'),\n",
    "    Dense(100, activation='relu'),\n",
    "    Dense(OUTPUTS, activation='softmax'),\n",
    "])\n",
    "\n",
    "mlp_3l_100_lr0001.compile(\n",
    "    optimizer=tf.keras.optimizers.Adam(\n",
    "        learning_rate=0.001, #Default\n",
    "    ),\n",
    "    loss='sparse_categorical_crossentropy',\n",
    "    metrics=['accuracy',],\n",
    ")\n",
    "\n",
    "mlp_3l_100_lr0001.summary()"
   ]
  },
  {
   "cell_type": "code",
   "execution_count": 26,
   "metadata": {},
   "outputs": [
    {
     "name": "stdout",
     "output_type": "stream",
     "text": [
      "Epoch 1/30\n",
      "235/235 [==============================] - 1s 3ms/step - loss: 0.3311 - accuracy: 0.8802 - val_loss: 0.3687 - val_accuracy: 0.8658\n",
      "Epoch 2/30\n",
      "235/235 [==============================] - 1s 3ms/step - loss: 0.3171 - accuracy: 0.8821 - val_loss: 0.3501 - val_accuracy: 0.8732\n",
      "Epoch 3/30\n",
      "235/235 [==============================] - 1s 3ms/step - loss: 0.2985 - accuracy: 0.8891 - val_loss: 0.3616 - val_accuracy: 0.8705\n",
      "Epoch 4/30\n",
      "235/235 [==============================] - 1s 3ms/step - loss: 0.2867 - accuracy: 0.8950 - val_loss: 0.3549 - val_accuracy: 0.8731\n",
      "Epoch 5/30\n",
      "235/235 [==============================] - 1s 3ms/step - loss: 0.2753 - accuracy: 0.8979 - val_loss: 0.3472 - val_accuracy: 0.8747\n",
      "Epoch 6/30\n",
      "235/235 [==============================] - 1s 3ms/step - loss: 0.2706 - accuracy: 0.8995 - val_loss: 0.3442 - val_accuracy: 0.8769\n",
      "Epoch 7/30\n",
      "235/235 [==============================] - 1s 3ms/step - loss: 0.2606 - accuracy: 0.9028 - val_loss: 0.3340 - val_accuracy: 0.8792\n",
      "Epoch 8/30\n",
      "235/235 [==============================] - 1s 3ms/step - loss: 0.2479 - accuracy: 0.9073 - val_loss: 0.3317 - val_accuracy: 0.8855\n",
      "Epoch 9/30\n",
      "235/235 [==============================] - 1s 3ms/step - loss: 0.2452 - accuracy: 0.9086 - val_loss: 0.3230 - val_accuracy: 0.8841\n",
      "Epoch 10/30\n",
      "235/235 [==============================] - 1s 3ms/step - loss: 0.2364 - accuracy: 0.9114 - val_loss: 0.3303 - val_accuracy: 0.8832\n",
      "Epoch 11/30\n",
      "235/235 [==============================] - 1s 3ms/step - loss: 0.2300 - accuracy: 0.9129 - val_loss: 0.3334 - val_accuracy: 0.8822\n",
      "Epoch 12/30\n",
      "235/235 [==============================] - 1s 3ms/step - loss: 0.2215 - accuracy: 0.9172 - val_loss: 0.3391 - val_accuracy: 0.8777\n",
      "Epoch 13/30\n",
      "235/235 [==============================] - 1s 3ms/step - loss: 0.2170 - accuracy: 0.9181 - val_loss: 0.3249 - val_accuracy: 0.8900\n",
      "Epoch 14/30\n",
      "235/235 [==============================] - 1s 3ms/step - loss: 0.2116 - accuracy: 0.9186 - val_loss: 0.3255 - val_accuracy: 0.8846\n",
      "Epoch 15/30\n",
      "235/235 [==============================] - 1s 3ms/step - loss: 0.2097 - accuracy: 0.9209 - val_loss: 0.3247 - val_accuracy: 0.8890\n",
      "Epoch 16/30\n",
      "235/235 [==============================] - 1s 3ms/step - loss: 0.1997 - accuracy: 0.9249 - val_loss: 0.3481 - val_accuracy: 0.8842\n",
      "Epoch 17/30\n",
      "235/235 [==============================] - 1s 3ms/step - loss: 0.1963 - accuracy: 0.9255 - val_loss: 0.3228 - val_accuracy: 0.8920\n",
      "Epoch 18/30\n",
      "235/235 [==============================] - 1s 3ms/step - loss: 0.1932 - accuracy: 0.9272 - val_loss: 0.3353 - val_accuracy: 0.8885\n",
      "Epoch 19/30\n",
      "235/235 [==============================] - 1s 3ms/step - loss: 0.1846 - accuracy: 0.9299 - val_loss: 0.3395 - val_accuracy: 0.8895\n",
      "Epoch 20/30\n",
      "235/235 [==============================] - 1s 3ms/step - loss: 0.1823 - accuracy: 0.9313 - val_loss: 0.3530 - val_accuracy: 0.8846\n",
      "Epoch 21/30\n",
      "235/235 [==============================] - 1s 3ms/step - loss: 0.1752 - accuracy: 0.9348 - val_loss: 0.3547 - val_accuracy: 0.8876\n",
      "Epoch 22/30\n",
      "235/235 [==============================] - 1s 3ms/step - loss: 0.1718 - accuracy: 0.9350 - val_loss: 0.3427 - val_accuracy: 0.8894\n",
      "Epoch 23/30\n",
      "235/235 [==============================] - 1s 3ms/step - loss: 0.1698 - accuracy: 0.9361 - val_loss: 0.3651 - val_accuracy: 0.8901\n",
      "Epoch 24/30\n",
      "235/235 [==============================] - 1s 3ms/step - loss: 0.1611 - accuracy: 0.9384 - val_loss: 0.3478 - val_accuracy: 0.8920\n",
      "Epoch 25/30\n",
      "235/235 [==============================] - 1s 3ms/step - loss: 0.1614 - accuracy: 0.9386 - val_loss: 0.3585 - val_accuracy: 0.8938\n",
      "Epoch 26/30\n",
      "235/235 [==============================] - 1s 3ms/step - loss: 0.1622 - accuracy: 0.9393 - val_loss: 0.3880 - val_accuracy: 0.8842\n",
      "Epoch 27/30\n",
      "235/235 [==============================] - 1s 3ms/step - loss: 0.1539 - accuracy: 0.9413 - val_loss: 0.3855 - val_accuracy: 0.8866\n",
      "Epoch 28/30\n",
      "235/235 [==============================] - 1s 3ms/step - loss: 0.1517 - accuracy: 0.9419 - val_loss: 0.3625 - val_accuracy: 0.8928\n",
      "Epoch 29/30\n",
      "235/235 [==============================] - 1s 3ms/step - loss: 0.1424 - accuracy: 0.9469 - val_loss: 0.3946 - val_accuracy: 0.8863\n",
      "Epoch 30/30\n",
      "235/235 [==============================] - 1s 3ms/step - loss: 0.1381 - accuracy: 0.9475 - val_loss: 0.3931 - val_accuracy: 0.8907\n"
     ]
    }
   ],
   "source": [
    "mlp_3l_100_lr0001_fit = fit_model(mlp_3l_100_lr0001)"
   ]
  },
  {
   "cell_type": "code",
   "execution_count": 27,
   "metadata": {},
   "outputs": [
    {
     "name": "stdout",
     "output_type": "stream",
     "text": [
      "Model: \"sequential_5\"\n",
      "_________________________________________________________________\n",
      " Layer (type)                Output Shape              Param #   \n",
      "=================================================================\n",
      " rescaling_5 (Rescaling)     (None, 28, 28, 1)         0         \n",
      "                                                                 \n",
      " flatten_5 (Flatten)         (None, 784)               0         \n",
      "                                                                 \n",
      " dense_20 (Dense)            (None, 100)               78500     \n",
      "                                                                 \n",
      " dense_21 (Dense)            (None, 100)               10100     \n",
      "                                                                 \n",
      " dense_22 (Dense)            (None, 100)               10100     \n",
      "                                                                 \n",
      " dense_23 (Dense)            (None, 10)                1010      \n",
      "                                                                 \n",
      "=================================================================\n",
      "Total params: 99,710\n",
      "Trainable params: 99,710\n",
      "Non-trainable params: 0\n",
      "_________________________________________________________________\n"
     ]
    }
   ],
   "source": [
    "mlp_3l_100_lr001 = Sequential([\n",
    "    Rescaling(1/255, input_shape=(28,28,1)),\n",
    "    Flatten(),\n",
    "    Dense(100, activation='relu'),\n",
    "    Dense(100, activation='relu'),\n",
    "    Dense(100, activation='relu'),\n",
    "    Dense(OUTPUTS, activation='softmax'),\n",
    "])\n",
    "\n",
    "mlp_3l_100_lr001.compile(\n",
    "    optimizer=tf.keras.optimizers.Adam(\n",
    "        learning_rate=0.01,\n",
    "    ),\n",
    "    loss='sparse_categorical_crossentropy',\n",
    "    metrics=['accuracy',],\n",
    ")\n",
    "\n",
    "mlp_3l_100_lr001.summary()"
   ]
  },
  {
   "cell_type": "code",
   "execution_count": 28,
   "metadata": {},
   "outputs": [
    {
     "name": "stdout",
     "output_type": "stream",
     "text": [
      "Epoch 1/30\n",
      "235/235 [==============================] - 1s 4ms/step - loss: 0.5737 - accuracy: 0.7943 - val_loss: 0.4479 - val_accuracy: 0.8362\n",
      "Epoch 2/30\n",
      "235/235 [==============================] - 1s 3ms/step - loss: 0.4008 - accuracy: 0.8544 - val_loss: 0.4049 - val_accuracy: 0.8557\n",
      "Epoch 3/30\n",
      "235/235 [==============================] - 1s 3ms/step - loss: 0.3666 - accuracy: 0.8650 - val_loss: 0.4065 - val_accuracy: 0.8499\n",
      "Epoch 4/30\n",
      "235/235 [==============================] - 1s 3ms/step - loss: 0.3478 - accuracy: 0.8730 - val_loss: 0.3921 - val_accuracy: 0.8593\n",
      "Epoch 5/30\n",
      "235/235 [==============================] - 1s 3ms/step - loss: 0.3315 - accuracy: 0.8785 - val_loss: 0.4190 - val_accuracy: 0.8544\n",
      "Epoch 6/30\n",
      "235/235 [==============================] - 1s 3ms/step - loss: 0.3197 - accuracy: 0.8826 - val_loss: 0.3685 - val_accuracy: 0.8675\n",
      "Epoch 7/30\n",
      "235/235 [==============================] - 1s 3ms/step - loss: 0.3204 - accuracy: 0.8818 - val_loss: 0.3729 - val_accuracy: 0.8659\n",
      "Epoch 8/30\n",
      "235/235 [==============================] - 1s 3ms/step - loss: 0.3126 - accuracy: 0.8859 - val_loss: 0.3641 - val_accuracy: 0.8739\n",
      "Epoch 9/30\n",
      "235/235 [==============================] - 1s 3ms/step - loss: 0.3036 - accuracy: 0.8871 - val_loss: 0.3628 - val_accuracy: 0.8723\n",
      "Epoch 10/30\n",
      "235/235 [==============================] - 1s 3ms/step - loss: 0.2964 - accuracy: 0.8899 - val_loss: 0.3719 - val_accuracy: 0.8715\n",
      "Epoch 11/30\n",
      "235/235 [==============================] - 1s 3ms/step - loss: 0.2930 - accuracy: 0.8906 - val_loss: 0.3892 - val_accuracy: 0.8647\n",
      "Epoch 12/30\n",
      "235/235 [==============================] - 1s 3ms/step - loss: 0.2875 - accuracy: 0.8942 - val_loss: 0.3667 - val_accuracy: 0.8696\n",
      "Epoch 13/30\n",
      "235/235 [==============================] - 1s 3ms/step - loss: 0.2888 - accuracy: 0.8924 - val_loss: 0.3931 - val_accuracy: 0.8596\n",
      "Epoch 14/30\n",
      "235/235 [==============================] - 1s 3ms/step - loss: 0.2893 - accuracy: 0.8935 - val_loss: 0.3904 - val_accuracy: 0.8633\n",
      "Epoch 15/30\n",
      "235/235 [==============================] - 1s 3ms/step - loss: 0.2834 - accuracy: 0.8948 - val_loss: 0.3725 - val_accuracy: 0.8695\n",
      "Epoch 16/30\n",
      "235/235 [==============================] - 1s 3ms/step - loss: 0.2822 - accuracy: 0.8981 - val_loss: 0.4113 - val_accuracy: 0.8598\n",
      "Epoch 17/30\n",
      "235/235 [==============================] - 1s 3ms/step - loss: 0.2787 - accuracy: 0.8964 - val_loss: 0.3617 - val_accuracy: 0.8756\n",
      "Epoch 18/30\n",
      "235/235 [==============================] - 1s 3ms/step - loss: 0.2813 - accuracy: 0.8966 - val_loss: 0.3876 - val_accuracy: 0.8674\n",
      "Epoch 19/30\n",
      "235/235 [==============================] - 1s 3ms/step - loss: 0.2718 - accuracy: 0.8999 - val_loss: 0.3823 - val_accuracy: 0.8693\n",
      "Epoch 20/30\n",
      "235/235 [==============================] - 1s 3ms/step - loss: 0.2670 - accuracy: 0.9014 - val_loss: 0.3830 - val_accuracy: 0.8775\n",
      "Epoch 21/30\n",
      "235/235 [==============================] - 1s 3ms/step - loss: 0.2732 - accuracy: 0.8997 - val_loss: 0.3795 - val_accuracy: 0.8773\n",
      "Epoch 22/30\n",
      "235/235 [==============================] - 1s 3ms/step - loss: 0.2723 - accuracy: 0.8999 - val_loss: 0.3792 - val_accuracy: 0.8735\n",
      "Epoch 23/30\n",
      "235/235 [==============================] - 1s 3ms/step - loss: 0.2659 - accuracy: 0.9024 - val_loss: 0.3936 - val_accuracy: 0.8742\n",
      "Epoch 24/30\n",
      "235/235 [==============================] - 1s 3ms/step - loss: 0.2699 - accuracy: 0.8999 - val_loss: 0.3825 - val_accuracy: 0.8694\n",
      "Epoch 25/30\n",
      "235/235 [==============================] - 1s 3ms/step - loss: 0.2619 - accuracy: 0.9032 - val_loss: 0.4094 - val_accuracy: 0.8749\n",
      "Epoch 26/30\n",
      "235/235 [==============================] - 1s 3ms/step - loss: 0.2620 - accuracy: 0.9031 - val_loss: 0.3928 - val_accuracy: 0.8718\n",
      "Epoch 27/30\n",
      "235/235 [==============================] - 1s 3ms/step - loss: 0.2544 - accuracy: 0.9058 - val_loss: 0.4111 - val_accuracy: 0.8622\n",
      "Epoch 28/30\n",
      "235/235 [==============================] - 1s 3ms/step - loss: 0.2592 - accuracy: 0.9040 - val_loss: 0.4085 - val_accuracy: 0.8671\n",
      "Epoch 29/30\n",
      "235/235 [==============================] - 1s 3ms/step - loss: 0.2562 - accuracy: 0.9059 - val_loss: 0.3698 - val_accuracy: 0.8738\n",
      "Epoch 30/30\n",
      "235/235 [==============================] - 1s 3ms/step - loss: 0.2537 - accuracy: 0.9058 - val_loss: 0.4015 - val_accuracy: 0.8743\n"
     ]
    }
   ],
   "source": [
    "mlp_3l_100_lr001_fit = fit_model(mlp_3l_100_lr001)"
   ]
  },
  {
   "cell_type": "code",
   "execution_count": 29,
   "metadata": {},
   "outputs": [
    {
     "name": "stdout",
     "output_type": "stream",
     "text": [
      "Model: \"sequential_6\"\n",
      "_________________________________________________________________\n",
      " Layer (type)                Output Shape              Param #   \n",
      "=================================================================\n",
      " rescaling_6 (Rescaling)     (None, 28, 28, 1)         0         \n",
      "                                                                 \n",
      " flatten_6 (Flatten)         (None, 784)               0         \n",
      "                                                                 \n",
      " dense_24 (Dense)            (None, 100)               78500     \n",
      "                                                                 \n",
      " dense_25 (Dense)            (None, 100)               10100     \n",
      "                                                                 \n",
      " dense_26 (Dense)            (None, 100)               10100     \n",
      "                                                                 \n",
      " dense_27 (Dense)            (None, 10)                1010      \n",
      "                                                                 \n",
      "=================================================================\n",
      "Total params: 99,710\n",
      "Trainable params: 99,710\n",
      "Non-trainable params: 0\n",
      "_________________________________________________________________\n"
     ]
    }
   ],
   "source": [
    "mlp_3l_100_lr01 = Sequential([\n",
    "    Rescaling(1/255, input_shape=(28,28,1)),\n",
    "    Flatten(),\n",
    "    Dense(100, activation='relu'),\n",
    "    Dense(100, activation='relu'),\n",
    "    Dense(100, activation='relu'),\n",
    "    Dense(OUTPUTS, activation='softmax'),\n",
    "])\n",
    "\n",
    "mlp_3l_100_lr01.compile(\n",
    "    optimizer=tf.keras.optimizers.Adam(\n",
    "        learning_rate=0.1,\n",
    "    ),\n",
    "    loss='sparse_categorical_crossentropy',\n",
    "    metrics=['accuracy',],\n",
    ")\n",
    "\n",
    "mlp_3l_100_lr01.summary()"
   ]
  },
  {
   "cell_type": "code",
   "execution_count": 30,
   "metadata": {},
   "outputs": [
    {
     "name": "stdout",
     "output_type": "stream",
     "text": [
      "Epoch 1/30\n",
      "235/235 [==============================] - 1s 4ms/step - loss: 4.1995 - accuracy: 0.1000 - val_loss: 2.3083 - val_accuracy: 0.0999\n",
      "Epoch 2/30\n",
      "235/235 [==============================] - 1s 3ms/step - loss: 2.3060 - accuracy: 0.0975 - val_loss: 2.3080 - val_accuracy: 0.1000\n",
      "Epoch 3/30\n",
      "235/235 [==============================] - 1s 3ms/step - loss: 2.3054 - accuracy: 0.1010 - val_loss: 2.3114 - val_accuracy: 0.0999\n",
      "Epoch 4/30\n",
      "235/235 [==============================] - 1s 3ms/step - loss: 2.3067 - accuracy: 0.0993 - val_loss: 2.3085 - val_accuracy: 0.1000\n",
      "Epoch 5/30\n",
      "235/235 [==============================] - 1s 3ms/step - loss: 2.3065 - accuracy: 0.0983 - val_loss: 2.3092 - val_accuracy: 0.1000\n",
      "Epoch 6/30\n",
      "235/235 [==============================] - 1s 3ms/step - loss: 2.3071 - accuracy: 0.0989 - val_loss: 2.3075 - val_accuracy: 0.1000\n",
      "Epoch 7/30\n",
      "235/235 [==============================] - 1s 3ms/step - loss: 2.3073 - accuracy: 0.0965 - val_loss: 2.3075 - val_accuracy: 0.1000\n",
      "Epoch 8/30\n",
      "235/235 [==============================] - 1s 3ms/step - loss: 2.3065 - accuracy: 0.1003 - val_loss: 2.3100 - val_accuracy: 0.1000\n",
      "Epoch 9/30\n",
      "235/235 [==============================] - 1s 3ms/step - loss: 2.3066 - accuracy: 0.0980 - val_loss: 2.3085 - val_accuracy: 0.1000\n",
      "Epoch 10/30\n",
      "235/235 [==============================] - 1s 3ms/step - loss: 2.3070 - accuracy: 0.0986 - val_loss: 2.3076 - val_accuracy: 0.1000\n",
      "Epoch 11/30\n",
      "235/235 [==============================] - 1s 3ms/step - loss: 2.3071 - accuracy: 0.0992 - val_loss: 2.3089 - val_accuracy: 0.1000\n",
      "Epoch 12/30\n",
      "235/235 [==============================] - 1s 3ms/step - loss: 2.3071 - accuracy: 0.1006 - val_loss: 2.3099 - val_accuracy: 0.1000\n",
      "Epoch 13/30\n",
      "235/235 [==============================] - 1s 3ms/step - loss: 2.3066 - accuracy: 0.0996 - val_loss: 2.3078 - val_accuracy: 0.0999\n",
      "Epoch 14/30\n",
      "235/235 [==============================] - 1s 3ms/step - loss: 2.3063 - accuracy: 0.1002 - val_loss: 2.3074 - val_accuracy: 0.1000\n",
      "Epoch 15/30\n",
      "235/235 [==============================] - 1s 3ms/step - loss: 2.3067 - accuracy: 0.1003 - val_loss: 2.3096 - val_accuracy: 0.1000\n",
      "Epoch 16/30\n",
      "235/235 [==============================] - 1s 3ms/step - loss: 2.3068 - accuracy: 0.0981 - val_loss: 2.3100 - val_accuracy: 0.1000\n",
      "Epoch 17/30\n",
      "235/235 [==============================] - 1s 3ms/step - loss: 2.3070 - accuracy: 0.0986 - val_loss: 2.3140 - val_accuracy: 0.1000\n",
      "Epoch 18/30\n",
      "235/235 [==============================] - 1s 3ms/step - loss: 2.3070 - accuracy: 0.1000 - val_loss: 2.3084 - val_accuracy: 0.1000\n",
      "Epoch 19/30\n",
      "235/235 [==============================] - 1s 3ms/step - loss: 2.3066 - accuracy: 0.0983 - val_loss: 2.3074 - val_accuracy: 0.1000\n",
      "Epoch 20/30\n",
      "235/235 [==============================] - 1s 3ms/step - loss: 2.3070 - accuracy: 0.0984 - val_loss: 2.3067 - val_accuracy: 0.1000\n",
      "Epoch 21/30\n",
      "235/235 [==============================] - 1s 3ms/step - loss: 2.3067 - accuracy: 0.0979 - val_loss: 2.3112 - val_accuracy: 0.1000\n",
      "Epoch 22/30\n",
      "235/235 [==============================] - 1s 3ms/step - loss: 2.3068 - accuracy: 0.0991 - val_loss: 2.3097 - val_accuracy: 0.1000\n",
      "Epoch 23/30\n",
      "235/235 [==============================] - 1s 3ms/step - loss: 2.3068 - accuracy: 0.0985 - val_loss: 2.3081 - val_accuracy: 0.1000\n",
      "Epoch 24/30\n",
      "235/235 [==============================] - 1s 3ms/step - loss: 2.3066 - accuracy: 0.1001 - val_loss: 2.3169 - val_accuracy: 0.1000\n",
      "Epoch 25/30\n",
      "235/235 [==============================] - 1s 3ms/step - loss: 2.3074 - accuracy: 0.0995 - val_loss: 2.3107 - val_accuracy: 0.1000\n",
      "Epoch 26/30\n",
      "235/235 [==============================] - 1s 3ms/step - loss: 2.3070 - accuracy: 0.0985 - val_loss: 2.3091 - val_accuracy: 0.1000\n",
      "Epoch 27/30\n",
      "235/235 [==============================] - 1s 3ms/step - loss: 2.3070 - accuracy: 0.0979 - val_loss: 2.3087 - val_accuracy: 0.1000\n",
      "Epoch 28/30\n",
      "235/235 [==============================] - 1s 3ms/step - loss: 2.3076 - accuracy: 0.0990 - val_loss: 2.3108 - val_accuracy: 0.1000\n",
      "Epoch 29/30\n",
      "235/235 [==============================] - 1s 3ms/step - loss: 2.3068 - accuracy: 0.0967 - val_loss: 2.3079 - val_accuracy: 0.1000\n",
      "Epoch 30/30\n",
      "235/235 [==============================] - 1s 3ms/step - loss: 2.3068 - accuracy: 0.1022 - val_loss: 2.3102 - val_accuracy: 0.1000\n"
     ]
    }
   ],
   "source": [
    "mlp_3l_100_lr01_fit = fit_model(mlp_3l_100_lr01, epochs=30)"
   ]
  },
  {
   "cell_type": "code",
   "execution_count": 31,
   "metadata": {},
   "outputs": [
    {
     "data": {
      "image/png": "[encoded data removed]",
      "text/plain": [
       "<Figure size 1728x360 with 3 Axes>"
      ]
     },
     "metadata": {
      "needs_background": "light"
     },
     "output_type": "display_data"
    }
   ],
   "source": [
    "plot_model(model_1=mlp_3l_100_lr0001_fit, model_2=mlp_3l_100_lr001_fit, model_3=mlp_3l_100_lr01_fit, \n",
    "    title='Accuracy over train epochs with different learning rates', subtitle_1='Learning Rate=0.001', subtitle_2='Learning Rate=0.01', subtitle_3='Learning Rate=0.1')"
   ]
  },
  {
   "cell_type": "code",
   "execution_count": 33,
   "metadata": {},
   "outputs": [
    {
     "data": {
      "image/png": "[encoded data removed]",
      "text/plain": [
       "<Figure size 1728x360 with 3 Axes>"
      ]
     },
     "metadata": {
      "needs_background": "light"
     },
     "output_type": "display_data"
    }
   ],
   "source": [
    "plot_model(model_1=mlp_3l_100_lr0001_fit, model_2=mlp_3l_100_lr001_fit, model_3=mlp_3l_100_lr01_fit, loss=True,\n",
    "    title='Accuracy over train epochs with different learning rates', subtitle_1='Learning Rate=0.001', subtitle_2='Learning Rate=0.01', subtitle_3='Learning Rate=0.1')"
   ]
  },
  {
   "cell_type": "markdown",
   "metadata": {},
   "source": [
    "Puede apreciarse que al utilizar un learning rate 10 veces más grande al default (0.01, en lugar de 0.001)"
   ]
  },
  {
   "cell_type": "code",
   "execution_count": null,
   "metadata": {},
   "outputs": [],
   "source": [
    "print()"
   ]
  },
  {
   "cell_type": "markdown",
   "metadata": {},
   "source": [
    "## Amount of neurons"
   ]
  },
  {
   "cell_type": "code",
   "execution_count": null,
   "metadata": {},
   "outputs": [],
   "source": [
    "mlp_3l_10 = Sequential([\n",
    "    Rescaling(1/255, input_shape=(28,28,1)),\n",
    "    Flatten(),\n",
    "    Dense(10, activation='relu'),\n",
    "    Dense(10, activation='relu'),\n",
    "    Dense(10, activation='relu'),\n",
    "    Dense(OUTPUTS, activation='softmax'),\n",
    "])\n",
    "\n",
    "mlp_3l_10.compile(\n",
    "    optimizer='adam',\n",
    "    loss='sparse_categorical_crossentropy',\n",
    "    metrics=['accuracy',],\n",
    ")\n",
    "\n",
    "mlp_3l_10.summary()"
   ]
  },
  {
   "cell_type": "code",
   "execution_count": null,
   "metadata": {},
   "outputs": [],
   "source": [
    "mlp_3l_20 = Sequential([\n",
    "    Rescaling(1/255, input_shape=(28,28,1)),\n",
    "    Flatten(),\n",
    "    Dense(20, activation='relu'),\n",
    "    Dense(20, activation='relu'),\n",
    "    Dense(20, activation='relu'),\n",
    "    Dense(OUTPUTS, activation='softmax'),\n",
    "])\n",
    "\n",
    "mlp_3l_20.compile(\n",
    "    optimizer='adam',\n",
    "    loss='sparse_categorical_crossentropy',\n",
    "    metrics=['accuracy',],\n",
    ")\n",
    "\n",
    "mlp_3l_20.summary()"
   ]
  },
  {
   "cell_type": "code",
   "execution_count": null,
   "metadata": {},
   "outputs": [],
   "source": [
    "mlp_3l_40 = Sequential([\n",
    "    Rescaling(1/255, input_shape=(28,28,1)),\n",
    "    Flatten(),\n",
    "    Dense(40, activation='relu'),\n",
    "    Dense(40, activation='relu'),\n",
    "    Dense(40, activation='relu'),\n",
    "    Dense(OUTPUTS, activation='softmax'),\n",
    "])\n",
    "\n",
    "mlp_3l_40.compile(\n",
    "    optimizer='adam',\n",
    "    loss='sparse_categorical_crossentropy',\n",
    "    metrics=['accuracy',],\n",
    ")\n",
    "\n",
    "mlp_3l_40.summary()"
   ]
  },
  {
   "cell_type": "code",
   "execution_count": null,
   "metadata": {},
   "outputs": [],
   "source": [
    "mlp_3l_10_fit = fit_model(mlp_3l_10)\n",
    "mlp_3l_20_fit = fit_model(mlp_3l_20)\n",
    "mlp_3l_40_fit = fit_model(mlp_3l_40)"
   ]
  },
  {
   "cell_type": "code",
   "execution_count": null,
   "metadata": {},
   "outputs": [],
   "source": [
    "plot_model(model_1=mlp_3l_10_fit, epochs=30)"
   ]
  },
  {
   "cell_type": "code",
   "execution_count": null,
   "metadata": {},
   "outputs": [],
   "source": [
    "plot_model(model_1=mlp_3l_10_fit, model_2=mlp_3l_20_fit, model_3=mlp_3l_40_fit,\n",
    "    title=\"MLP TEST NO. 1\", subtitle_1='MOD1', subtitle_2='MOD2', subtitle_3='MOD3')"
   ]
  },
  {
   "cell_type": "markdown",
   "metadata": {},
   "source": [
    "# Grid Search MLP\n",
    "\n",
    "param_grid = {\n",
    "    'learning_rate': [\"constant\", \"invscaling\", \"adaptive\"],\n",
    "    'hidden_layer_sizes': [x for x in itertools.product((10,50,100),repeat=3)],\n",
    "    'activation': [\"logistic\", \"relu\", \"tanh\"]\n",
    "}  \n",
    "base_estimator = MLP"
   ]
  },
  {
   "cell_type": "code",
   "execution_count": null,
   "metadata": {},
   "outputs": [],
   "source": [
    "# Reshape de X_train a 2D para GridSearchCV\n",
    "feature_vector_length = 784\n",
    "num_classes = 10\n",
    "\n",
    "X_trainR = X_train.reshape(X_train.shape[0], feature_vector_length)\n",
    "X_testR = X_test.reshape(X_test.shape[0], feature_vector_length)\n",
    "\n",
    "import itertools\n",
    "from sklearn.neural_network import MLPClassifier\n",
    "from sklearn.model_selection import GridSearchCV\n",
    "from sklearn.metrics import classification_report, confusion_matrix \n",
    "\n",
    "# defining parameter range \n",
    "param_grid = {\n",
    "    'hidden_layer_sizes': [(10,10),(10,10,10)],\n",
    "    'batch_size': [128, 256, 512],\n",
    "    'learning_rate': ['constant', 'adaptive'],\n",
    "    'alpha': 10.0 ** -np.arange(1, 5),\n",
    "    \n",
    "    'max_iter': [30],\n",
    "    'solver': ['adam'],\n",
    "}  \n",
    "\n",
    "'''\n",
    "grid2 = GridSearchCV(MLPClassifier(), param_grid=param_grid, n_jobs=-1, verbose=3, cv=3)\n",
    "\n",
    "# fitting the model for grid search \n",
    "grid2.fit(X_trainR, Y_train) \n",
    " \n",
    "# print best parameter after tuning \n",
    "print(grid2.best_params_) \n",
    "grid_predictions = grid2.predict(X_testR) \n",
    "   \n",
    "# print classification report \n",
    "print(classification_report(Y_test, grid_predictions)) \n",
    "'''"
   ]
  },
  {
   "cell_type": "code",
   "execution_count": null,
   "metadata": {},
   "outputs": [],
   "source": [
    "model = Sequential([\n",
    "    # el shape de los inputs es alto_imagen * ancho_imagen * cantidad_colores\n",
    "    \n",
    "    Convolution2D(input_shape=(28, 28, 1), filters=8, kernel_size=(4, 4), strides=1, activation='relu'),\n",
    "    # kernels de 4x4x1, y salida de 26x26x8\n",
    "    Dropout(0.2),\n",
    "    \n",
    "    Convolution2D(filters=8, kernel_size=(4, 4), strides=1, activation='relu'),\n",
    "    # kernels de 4x4x8, y salida de 58x58x8\n",
    "    Dropout(0.2),\n",
    "    \n",
    "    MaxPooling2D(pool_size=(4, 4)),\n",
    "    # salida de 14x14x8\n",
    "    \n",
    "    Flatten(),\n",
    "    # salida de 1568\n",
    "    \n",
    "    Dense(10, activation='tanh'),\n",
    "    # salida de 10\n",
    "    Dropout(0.2),\n",
    "    \n",
    "    Dense(10, activation='tanh'),\n",
    "    # salida de 10\n",
    "    Dropout(0.2),\n",
    "\n",
    "    Dense(len(LABELS), activation='softmax'),\n",
    "    # salida de 10\n",
    "])\n",
    "\n",
    "model.compile(\n",
    "    optimizer='adam',\n",
    "    loss='sparse_categorical_crossentropy',\n",
    "    metrics=['accuracy',],\n",
    ")\n",
    "\n",
    "model.summary()"
   ]
  },
  {
   "cell_type": "code",
   "execution_count": null,
   "metadata": {},
   "outputs": [],
   "source": [
    "history = model.fit(\n",
    "    X_train,\n",
    "    Y_train, \n",
    "    epochs=5,\n",
    "    batch_size=500,\n",
    "    validation_data=(X_test, Y_test),\n",
    ")"
   ]
  },
  {
   "cell_type": "code",
   "execution_count": null,
   "metadata": {},
   "outputs": [],
   "source": []
  },
  {
   "cell_type": "markdown",
   "metadata": {},
   "source": [
    "# Prunning\n",
    "\n",
    "https://www.tensorflow.org/model_optimization/guide/pruning/pruning_with_keras"
   ]
  },
  {
   "cell_type": "code",
   "execution_count": null,
   "metadata": {},
   "outputs": [],
   "source": []
  }
 ],
 "metadata": {
  "interpreter": {
   "hash": "0e32d50fac4f93648707e6c06d16f383ac3ef03705b1d743a12bf83afaecbf40"
  },
  "kernelspec": {
   "display_name": "Python 3.8.5 ('venv')",
   "language": "python",
   "name": "python3"
  },
  "language_info": {
   "codemirror_mode": {
    "name": "ipython",
    "version": 3
   },
   "file_extension": ".py",
   "mimetype": "text/x-python",
   "name": "python",
   "nbconvert_exporter": "python",
   "pygments_lexer": "ipython3",
   "version": "3.8.5"
  }
 },
 "nbformat": 4,
 "nbformat_minor": 2
}
