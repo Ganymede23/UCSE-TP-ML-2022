{
 "cells": [
  {
   "cell_type": "markdown",
   "metadata": {},
   "source": [
    "# Entrenamiento y Evaluación de Modelos\n",
    "\n",
    "## Trabajo Práctico Nro. 2 - Grupo 3\n",
    "\n",
    "#### Integrantes:\n",
    "* Ignacio Busso\n",
    "* Lucas Copes\n",
    "* Jesica Heit\n",
    "\n",
    "#### Dataset: https://www.kaggle.com/datasets/teejmahal20/airline-passenger-satisfaction\n",
    "* Detalle: contiene datos de la satisfacción de los pasajeros de diferentes vuelos tomando en cuenta multiples aspectos (calidad del servicio, comodidad, limpieza, etc.)\n",
    "* Target: columna 'satisfaction', para determinar la satisfacción de un pasajero respecto a un vuelo.\n",
    "* Dimensiones: 25 columnas x 129.880 filas."
   ]
  },
  {
   "cell_type": "code",
   "execution_count": null,
   "metadata": {},
   "outputs": [],
   "source": [
    "%matplotlib inline\n",
    "\n",
    "import warnings\n",
    "import numpy as np\n",
    "import pandas as pd\n",
    "from matplotlib import pyplot as plt\n",
    "import seaborn as sns\n",
    "import numpy as np\n",
    "\n",
    "pd.options.display.max_columns = 0\n",
    "\n",
    "#Cambios en el estilo de los graficos\n",
    "plt.style.use('fast')\n",
    "plt.rcParams.update({\n",
    "    \"font.family\": [\"serif\"],\n",
    "    \"font.sans-serif\": [\"Roboto\"],\n",
    "    \"font.size\": 9,\n",
    "    \"axes.labelsize\": 11,\n",
    "    \"axes.titlesize\": 13,\n",
    "    \"xtick.labelsize\": 11,\n",
    "    \"ytick.labelsize\": 11,\n",
    "    \"legend.fontsize\": 11,\n",
    "    'figure.figsize': (11.0, 5.0),\n",
    "    'axes.grid': True,\n",
    "    'axes.spines.left': True,\n",
    "    'axes.spines.right': True,\n",
    "    'axes.spines.top': True,\n",
    "    'axes.spines.bottom': True,\n",
    "})\n",
    "\n",
    "np.set_printoptions(suppress=True)\n",
    "\n",
    "warnings.filterwarnings('ignore')"
   ]
  },
  {
   "cell_type": "code",
   "execution_count": null,
   "metadata": {},
   "outputs": [],
   "source": [
    "# Lectura y concatenación de los .csv\n",
    "train = pd.read_csv('data/train.csv', index_col=[0])\n",
    "test = pd.read_csv('data/test.csv', index_col=[0])\n",
    "full = pd.concat([train, test], sort=False)\n",
    "\n",
    "# Asignamos nuevos nombres a algunas de las columnas\n",
    "new_column_names = {\n",
    "    'Gender': 'gender',\n",
    "    'Customer Type': 'customer_type',\n",
    "    'Age': 'age',\n",
    "    'Type of Travel': 'business_travel',\n",
    "    'Class': 'ticket_class',\n",
    "    'Flight Distance': 'flight_distance',\n",
    "    'Inflight wifi service': 'wifi_service',\n",
    "    'Departure/Arrival time convenient': 'departure_arrival_time_convenient',\n",
    "    'Ease of Online booking': 'online_booking',\n",
    "    'Gate location': 'gate_location',\n",
    "    'Food and drink': 'food_and_drink',\n",
    "    'Online boarding': 'online_boarding',\n",
    "    'Seat comfort': 'seat_comfort',\n",
    "    'Inflight entertainment': 'inflight_entertainment',\n",
    "    'On-board service': 'onboard_service',\n",
    "    'Leg room service': 'leg_room',\n",
    "    'Baggage handling': 'baggage_handling',\n",
    "    'Checkin service': 'checkin',\n",
    "    'Inflight service': 'inflight_service',\n",
    "    'Cleanliness': 'cleanliness',\n",
    "    'Departure Delay in Minutes': 'departure_delay',\n",
    "    'Arrival Delay in Minutes': 'arrival_delay',\n",
    "}\n",
    "\n",
    "full.rename(columns=new_column_names, inplace=True)\n",
    "full.set_index('id', inplace=True)"
   ]
  },
  {
   "cell_type": "code",
   "execution_count": null,
   "metadata": {},
   "outputs": [],
   "source": [
    "# Conversión a variables booleanas\n",
    "full['gender'] = full['gender'].replace(['Male','Female'],['0','1'])\n",
    "full['customer_type'] = full['customer_type'].replace(['disloyal Customer','Loyal Customer'],['0','1'])\n",
    "full['business_travel'] = full['business_travel'].replace(['Personal Travel','Business travel'],['0','1'])\n",
    "full['satisfaction'] = full['satisfaction'].replace(['neutral or dissatisfied','satisfied'],['0','1'])"
   ]
  },
  {
   "cell_type": "code",
   "execution_count": null,
   "metadata": {},
   "outputs": [],
   "source": [
    "full.shape"
   ]
  },
  {
   "cell_type": "code",
   "execution_count": null,
   "metadata": {},
   "outputs": [],
   "source": [
    "#Limpieza de filas con pocas (< 500) features de servicios nulas\n",
    "full = full[\n",
    "    ~(full == 0).gate_location &\n",
    "    ~(full == 0).food_and_drink &\n",
    "    ~(full == 0).seat_comfort & \n",
    "    ~(full == 0).inflight_entertainment &\n",
    "    ~(full == 0).onboard_service &\n",
    "    ~(full == 0).checkin &\n",
    "    ~(full == 0).inflight_service &\n",
    "    ~(full == 0).cleanliness\n",
    "    ]\n",
    "full.shape"
   ]
  },
  {
   "cell_type": "code",
   "execution_count": null,
   "metadata": {},
   "outputs": [],
   "source": [
    "from sklearn_pandas import DataFrameMapper\n",
    "from sklearn.preprocessing import StandardScaler, MinMaxScaler, OneHotEncoder\n",
    "from sklearn.experimental import enable_iterative_imputer\n",
    "from sklearn.impute import IterativeImputer\n",
    "\n",
    "mapper = DataFrameMapper([\n",
    "    (['wifi_service'], [IterativeImputer(missing_values=0), MinMaxScaler()]),\n",
    "    (['departure_arrival_time_convenient'], [IterativeImputer(missing_values=0), MinMaxScaler()]),\n",
    "    (['online_booking'], [IterativeImputer(missing_values=0), MinMaxScaler()]),\n",
    "    (['gate_location'], [MinMaxScaler()]),\n",
    "    (['food_and_drink'], [MinMaxScaler()]),\n",
    "    (['online_boarding'], [IterativeImputer(missing_values=0), MinMaxScaler()]),\n",
    "    (['seat_comfort'], [MinMaxScaler()]),\n",
    "    (['inflight_entertainment'], [MinMaxScaler()]),\n",
    "    (['onboard_service'], [MinMaxScaler()]),\n",
    "    (['leg_room'], [IterativeImputer(missing_values=0), MinMaxScaler()]),\n",
    "    (['baggage_handling'], [MinMaxScaler()]),\n",
    "    (['checkin'], [MinMaxScaler()]),\n",
    "    (['inflight_service'], [MinMaxScaler()]),\n",
    "    (['cleanliness'], [MinMaxScaler()]),\n",
    "    (['departure_delay'], [MinMaxScaler()]),\n",
    "    (['arrival_delay'], [IterativeImputer(), MinMaxScaler()]),\n",
    "    (['ticket_class'], [OneHotEncoder()])\n",
    "], df_out=True)\n",
    "\n",
    "mapper.fit(full)\n",
    "#mfit = mapper.fit(full)\n",
    "#full_transformed = mapper.transform(full)"
   ]
  },
  {
   "cell_type": "code",
   "execution_count": null,
   "metadata": {},
   "outputs": [],
   "source": [
    "# Transformación de un sample:\n",
    "sample = full.sample(20)\n",
    "# Sample original:\n",
    "sample"
   ]
  },
  {
   "cell_type": "code",
   "execution_count": null,
   "metadata": {},
   "outputs": [],
   "source": [
    "# Sample transformado.\n",
    "mapper.transform(sample)"
   ]
  },
  {
   "cell_type": "code",
   "execution_count": null,
   "metadata": {},
   "outputs": [],
   "source": [
    "# Nombres de los features\n",
    "mapper.transformed_names_\n"
   ]
  },
  {
   "cell_type": "code",
   "execution_count": null,
   "metadata": {},
   "outputs": [],
   "source": [
    "from sklearn.pipeline import Pipeline\n",
    "\n",
    "pipe = Pipeline([\n",
    "    ('mapper', mapper),\n",
    "    ('imputer', IterativeImputer()),\n",
    "])\n",
    "# Lo entrenamos con train\n",
    "pipe.fit(full)"
   ]
  },
  {
   "cell_type": "code",
   "execution_count": null,
   "metadata": {},
   "outputs": [],
   "source": [
    "pipe.transform(full)"
   ]
  },
  {
   "cell_type": "code",
   "execution_count": null,
   "metadata": {},
   "outputs": [],
   "source": [
    "#Ejemplo IterativeImputer\n",
    "\n",
    "entradas = np.array((\n",
    "    (20, 1, 200),\n",
    "    (10, 1, 0),\n",
    "    (30, 3, 1),\n",
    "    (20, 2, 1),\n",
    "    (10, 2, 23),\n",
    "))\n",
    "\n",
    "imputador = IterativeImputer(missing_values=0)\n",
    "imputador.fit_transform(entradas)"
   ]
  }
 ],
 "metadata": {
  "interpreter": {
   "hash": "e1f9169ae4315cfc4614565a4c2b2d600515b6454333995dfdf26296b7266cb1"
  },
  "kernelspec": {
   "display_name": "Python 3.8.5 ('venv')",
   "language": "python",
   "name": "python3"
  },
  "language_info": {
   "codemirror_mode": {
    "name": "ipython",
    "version": 3
   },
   "file_extension": ".py",
   "mimetype": "text/x-python",
   "name": "python",
   "nbconvert_exporter": "python",
   "pygments_lexer": "ipython3",
   "version": "3.8.5"
  },
  "orig_nbformat": 4
 },
 "nbformat": 4,
 "nbformat_minor": 2
}
